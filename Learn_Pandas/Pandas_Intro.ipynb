{
 "cells": [
  {
   "cell_type": "code",
   "execution_count": 3,
   "id": "10fba7fd-e923-4503-8f35-782b5cf395fd",
   "metadata": {},
   "outputs": [
    {
     "name": "stdout",
     "output_type": "stream",
     "text": [
      "    cars  passings\n",
      "0    BMW         3\n",
      "1  Volvo         7\n",
      "2   Ford         2\n"
     ]
    }
   ],
   "source": [
    "import pandas as pd\n",
    "\n",
    "my_dataset = {\n",
    "    'cars': [\"BMW\", \"Volvo\", \"Ford\"],\n",
    "    'passings': [3, 7, 2]\n",
    "}\n",
    "\n",
    "myvar = pd.DataFrame(my_dataset)\n",
    "print(myvar)"
   ]
  },
  {
   "cell_type": "code",
   "execution_count": 5,
   "id": "69017e4a-6515-4307-92d1-e96998efb425",
   "metadata": {},
   "outputs": [
    {
     "name": "stdout",
     "output_type": "stream",
     "text": [
      "2.2.2\n"
     ]
    }
   ],
   "source": [
    "print(pd.__version__)"
   ]
  },
  {
   "cell_type": "code",
   "execution_count": 7,
   "id": "988cb83a-95ae-4cd6-9c49-1b9dcbfd193c",
   "metadata": {},
   "outputs": [
    {
     "name": "stdout",
     "output_type": "stream",
     "text": [
      "0    1\n",
      "1    7\n",
      "2    2\n",
      "dtype: int64\n"
     ]
    }
   ],
   "source": [
    "#Pandas Series\n",
    "a = [1, 7, 2]\n",
    "myvar = pd.Series(a)\n",
    "print(myvar)"
   ]
  },
  {
   "cell_type": "code",
   "execution_count": 9,
   "id": "7315df08-0ecd-4aac-a577-f61742e1ab1d",
   "metadata": {},
   "outputs": [
    {
     "name": "stdout",
     "output_type": "stream",
     "text": [
      "1\n"
     ]
    }
   ],
   "source": [
    "print(myvar[0])"
   ]
  },
  {
   "cell_type": "code",
   "execution_count": 13,
   "id": "97b33428-c166-465d-9053-e4f8c0b8fb83",
   "metadata": {},
   "outputs": [
    {
     "name": "stdout",
     "output_type": "stream",
     "text": [
      "7\n"
     ]
    }
   ],
   "source": [
    "print(myvar[1])"
   ]
  },
  {
   "cell_type": "code",
   "execution_count": 15,
   "id": "3b13db37-9798-4ead-a09b-71fd199be712",
   "metadata": {},
   "outputs": [
    {
     "name": "stdout",
     "output_type": "stream",
     "text": [
      "x    1\n",
      "y    7\n",
      "z    2\n",
      "dtype: int64\n"
     ]
    }
   ],
   "source": [
    "#Create labels:\n",
    "myvar = pd.Series(a, index = [\"x\", \"y\", \"z\"])\n",
    "print(myvar)"
   ]
  },
  {
   "cell_type": "code",
   "execution_count": 19,
   "id": "56a47dc3-1236-4db4-9255-f5446b7cf729",
   "metadata": {},
   "outputs": [
    {
     "name": "stdout",
     "output_type": "stream",
     "text": [
      "2\n"
     ]
    }
   ],
   "source": [
    "print(myvar[\"z\"])"
   ]
  },
  {
   "cell_type": "code",
   "execution_count": 21,
   "id": "834b4edb-2afa-4ee2-acfd-9e30550e8b57",
   "metadata": {},
   "outputs": [
    {
     "name": "stdout",
     "output_type": "stream",
     "text": [
      "day1    420\n",
      "day2    380\n",
      "day3    390\n",
      "dtype: int64\n"
     ]
    }
   ],
   "source": [
    "calories = {\"day1\": 420, \"day2\": 380, \"day3\": 390}\n",
    "myvar = pd.Series(calories)\n",
    "print(myvar)"
   ]
  },
  {
   "cell_type": "code",
   "execution_count": 23,
   "id": "ea611a0a-bdab-41ac-ae2b-63850f9c14a0",
   "metadata": {},
   "outputs": [
    {
     "name": "stdout",
     "output_type": "stream",
     "text": [
      "day1    420\n",
      "day2    380\n",
      "dtype: int64\n"
     ]
    }
   ],
   "source": [
    "calories = {\"day1\": 420, \"day2\": 380, \"day3\": 390}\n",
    "myvar = pd.Series(calories, index = [\"day1\", \"day2\"])\n",
    "print(myvar)"
   ]
  },
  {
   "cell_type": "code",
   "execution_count": 25,
   "id": "514ba964-ff09-48f5-9d0c-0fe9a1602bce",
   "metadata": {},
   "outputs": [
    {
     "name": "stdout",
     "output_type": "stream",
     "text": [
      "   calories  duration\n",
      "0       420        50\n",
      "1       380        40\n",
      "2       390        45\n"
     ]
    }
   ],
   "source": [
    "#DataFrames\n",
    "data = {\n",
    "    'calories': [420, 380, 390],\n",
    "    'duration': [50, 40, 45]\n",
    "}\n",
    "myvar = pd.DataFrame(data)\n",
    "print (myvar)"
   ]
  },
  {
   "cell_type": "code",
   "execution_count": 29,
   "id": "7653c68e-dabf-41a8-930b-26d087714743",
   "metadata": {},
   "outputs": [
    {
     "name": "stdout",
     "output_type": "stream",
     "text": [
      "calories    420\n",
      "duration     50\n",
      "Name: 0, dtype: int64\n"
     ]
    }
   ],
   "source": [
    "print(myvar.loc[0])"
   ]
  },
  {
   "cell_type": "code",
   "execution_count": 33,
   "id": "79ad1235-0905-4648-a6c8-538de0140432",
   "metadata": {},
   "outputs": [
    {
     "name": "stdout",
     "output_type": "stream",
     "text": [
      "   calories  duration\n",
      "0       420        50\n",
      "1       380        40\n"
     ]
    }
   ],
   "source": [
    "print(myvar.loc[[0, 1]])"
   ]
  },
  {
   "cell_type": "code",
   "execution_count": 35,
   "id": "cd9486dc-d4c7-4ab1-a832-5beeee40b8a9",
   "metadata": {},
   "outputs": [
    {
     "name": "stdout",
     "output_type": "stream",
     "text": [
      "      calories  duration\n",
      "day1       420        50\n",
      "day2       380        40\n",
      "day3       390        45\n"
     ]
    }
   ],
   "source": [
    "myvar = pd.DataFrame(data, index = [\"day1\", \"day2\", \"day3\"])\n",
    "print(myvar)"
   ]
  },
  {
   "cell_type": "code",
   "execution_count": 37,
   "id": "513321ab-412b-4595-bbee-2e1613fe7173",
   "metadata": {},
   "outputs": [
    {
     "name": "stdout",
     "output_type": "stream",
     "text": [
      "calories    380\n",
      "duration     40\n",
      "Name: day2, dtype: int64\n"
     ]
    }
   ],
   "source": [
    "print(myvar.loc[\"day2\"])"
   ]
  },
  {
   "cell_type": "code",
   "execution_count": 41,
   "id": "7a805d37-005c-4450-8b2b-2a4406bb1730",
   "metadata": {},
   "outputs": [
    {
     "name": "stderr",
     "output_type": "stream",
     "text": [
      "IOPub data rate exceeded.\n",
      "The Jupyter server will temporarily stop sending output\n",
      "to the client in order to avoid crashing it.\n",
      "To change this limit, set the config variable\n",
      "`--ServerApp.iopub_data_rate_limit`.\n",
      "\n",
      "Current values:\n",
      "ServerApp.iopub_data_rate_limit=1000000.0 (bytes/sec)\n",
      "ServerApp.rate_limit_window=3.0 (secs)\n",
      "\n"
     ]
    }
   ],
   "source": [
    "#Read CSV file\n",
    "df = pd.read_csv('annual-enterprise-survey-2023-financial-year-provisional.csv')\n",
    "print(df.to_string())"
   ]
  },
  {
   "cell_type": "code",
   "execution_count": 43,
   "id": "90a40415-235d-47a1-94c2-4aa51c63cf7a",
   "metadata": {},
   "outputs": [
    {
     "name": "stdout",
     "output_type": "stream",
     "text": [
      "       Year Industry_aggregation_NZSIOC Industry_code_NZSIOC  \\\n",
      "0      2023                     Level 1                99999   \n",
      "1      2023                     Level 1                99999   \n",
      "2      2023                     Level 1                99999   \n",
      "3      2023                     Level 1                99999   \n",
      "4      2023                     Level 1                99999   \n",
      "...     ...                         ...                  ...   \n",
      "50980  2013                     Level 3                 ZZ11   \n",
      "50981  2013                     Level 3                 ZZ11   \n",
      "50982  2013                     Level 3                 ZZ11   \n",
      "50983  2013                     Level 3                 ZZ11   \n",
      "50984  2013                     Level 3                 ZZ11   \n",
      "\n",
      "             Industry_name_NZSIOC               Units Variable_code  \\\n",
      "0                  All industries  Dollars (millions)           H01   \n",
      "1                  All industries  Dollars (millions)           H04   \n",
      "2                  All industries  Dollars (millions)           H05   \n",
      "3                  All industries  Dollars (millions)           H07   \n",
      "4                  All industries  Dollars (millions)           H08   \n",
      "...                           ...                 ...           ...   \n",
      "50980  Food product manufacturing          Percentage           H37   \n",
      "50981  Food product manufacturing          Percentage           H38   \n",
      "50982  Food product manufacturing          Percentage           H39   \n",
      "50983  Food product manufacturing          Percentage           H40   \n",
      "50984  Food product manufacturing          Percentage           H41   \n",
      "\n",
      "                                         Variable_name      Variable_category  \\\n",
      "0                                         Total income  Financial performance   \n",
      "1      Sales, government funding, grants and subsidies  Financial performance   \n",
      "2                    Interest, dividends and donations  Financial performance   \n",
      "3                                 Non-operating income  Financial performance   \n",
      "4                                    Total expenditure  Financial performance   \n",
      "...                                                ...                    ...   \n",
      "50980                                      Quick ratio       Financial ratios   \n",
      "50981              Margin on sales of goods for resale       Financial ratios   \n",
      "50982                                 Return on equity       Financial ratios   \n",
      "50983                           Return on total assets       Financial ratios   \n",
      "50984                            Liabilities structure       Financial ratios   \n",
      "\n",
      "        Value                             Industry_code_ANZSIC06  \n",
      "0      930995  ANZSIC06 divisions A-S (excluding classes K633...  \n",
      "1      821630  ANZSIC06 divisions A-S (excluding classes K633...  \n",
      "2       84354  ANZSIC06 divisions A-S (excluding classes K633...  \n",
      "3       25010  ANZSIC06 divisions A-S (excluding classes K633...  \n",
      "4      832964  ANZSIC06 divisions A-S (excluding classes K633...  \n",
      "...       ...                                                ...  \n",
      "50980      52  ANZSIC06 groups C111, C112, C113, C114, C115, ...  \n",
      "50981      40  ANZSIC06 groups C111, C112, C113, C114, C115, ...  \n",
      "50982      12  ANZSIC06 groups C111, C112, C113, C114, C115, ...  \n",
      "50983       5  ANZSIC06 groups C111, C112, C113, C114, C115, ...  \n",
      "50984      46  ANZSIC06 groups C111, C112, C113, C114, C115, ...  \n",
      "\n",
      "[50985 rows x 10 columns]\n"
     ]
    }
   ],
   "source": [
    "print(df)"
   ]
  },
  {
   "cell_type": "code",
   "execution_count": 45,
   "id": "81740ff9-84a5-470d-8caf-82cd0ce02a2e",
   "metadata": {},
   "outputs": [
    {
     "name": "stdout",
     "output_type": "stream",
     "text": [
      "60\n"
     ]
    }
   ],
   "source": [
    "print(pd.options.display.max_rows)"
   ]
  },
  {
   "cell_type": "code",
   "execution_count": 47,
   "id": "651df537-9425-432d-8d35-3a86450b0471",
   "metadata": {},
   "outputs": [
    {
     "name": "stdout",
     "output_type": "stream",
     "text": [
      "       Year Industry_aggregation_NZSIOC Industry_code_NZSIOC  \\\n",
      "0      2023                     Level 1                99999   \n",
      "1      2023                     Level 1                99999   \n",
      "2      2023                     Level 1                99999   \n",
      "3      2023                     Level 1                99999   \n",
      "4      2023                     Level 1                99999   \n",
      "...     ...                         ...                  ...   \n",
      "50980  2013                     Level 3                 ZZ11   \n",
      "50981  2013                     Level 3                 ZZ11   \n",
      "50982  2013                     Level 3                 ZZ11   \n",
      "50983  2013                     Level 3                 ZZ11   \n",
      "50984  2013                     Level 3                 ZZ11   \n",
      "\n",
      "             Industry_name_NZSIOC               Units Variable_code  \\\n",
      "0                  All industries  Dollars (millions)           H01   \n",
      "1                  All industries  Dollars (millions)           H04   \n",
      "2                  All industries  Dollars (millions)           H05   \n",
      "3                  All industries  Dollars (millions)           H07   \n",
      "4                  All industries  Dollars (millions)           H08   \n",
      "...                           ...                 ...           ...   \n",
      "50980  Food product manufacturing          Percentage           H37   \n",
      "50981  Food product manufacturing          Percentage           H38   \n",
      "50982  Food product manufacturing          Percentage           H39   \n",
      "50983  Food product manufacturing          Percentage           H40   \n",
      "50984  Food product manufacturing          Percentage           H41   \n",
      "\n",
      "                                         Variable_name      Variable_category  \\\n",
      "0                                         Total income  Financial performance   \n",
      "1      Sales, government funding, grants and subsidies  Financial performance   \n",
      "2                    Interest, dividends and donations  Financial performance   \n",
      "3                                 Non-operating income  Financial performance   \n",
      "4                                    Total expenditure  Financial performance   \n",
      "...                                                ...                    ...   \n",
      "50980                                      Quick ratio       Financial ratios   \n",
      "50981              Margin on sales of goods for resale       Financial ratios   \n",
      "50982                                 Return on equity       Financial ratios   \n",
      "50983                           Return on total assets       Financial ratios   \n",
      "50984                            Liabilities structure       Financial ratios   \n",
      "\n",
      "        Value                             Industry_code_ANZSIC06  \n",
      "0      930995  ANZSIC06 divisions A-S (excluding classes K633...  \n",
      "1      821630  ANZSIC06 divisions A-S (excluding classes K633...  \n",
      "2       84354  ANZSIC06 divisions A-S (excluding classes K633...  \n",
      "3       25010  ANZSIC06 divisions A-S (excluding classes K633...  \n",
      "4      832964  ANZSIC06 divisions A-S (excluding classes K633...  \n",
      "...       ...                                                ...  \n",
      "50980      52  ANZSIC06 groups C111, C112, C113, C114, C115, ...  \n",
      "50981      40  ANZSIC06 groups C111, C112, C113, C114, C115, ...  \n",
      "50982      12  ANZSIC06 groups C111, C112, C113, C114, C115, ...  \n",
      "50983       5  ANZSIC06 groups C111, C112, C113, C114, C115, ...  \n",
      "50984      46  ANZSIC06 groups C111, C112, C113, C114, C115, ...  \n",
      "\n",
      "[50985 rows x 10 columns]\n"
     ]
    }
   ],
   "source": [
    "pd.options.display.max_rows = 9999\n",
    "df = pd.read_csv('annual-enterprise-survey-2023-financial-year-provisional.csv')\n",
    "print(df)"
   ]
  },
  {
   "cell_type": "code",
   "execution_count": 59,
   "id": "98a2f9aa-d9ea-4582-a298-61e9ff058c06",
   "metadata": {},
   "outputs": [
    {
     "name": "stdout",
     "output_type": "stream",
     "text": [
      "   Duration  Pulse\n",
      "0        60    110\n",
      "1        50    120\n",
      "2        45    100\n",
      "3        40    150\n",
      "4        50    100\n",
      "5        60    115\n"
     ]
    }
   ],
   "source": [
    "data = {\n",
    "    \"Duration\":{\n",
    "        \"0\": 60, \n",
    "        \"1\": 50,\n",
    "        \"2\": 45,\n",
    "        \"3\": 40,\n",
    "        \"4\": 50,\n",
    "        \"5\": 60\n",
    "    },\n",
    "    \"Pulse\":{\n",
    "        \"0\": 110,\n",
    "        \"1\": 120,\n",
    "        \"2\": 100,\n",
    "        \"3\": 150,\n",
    "        \"4\": 100,\n",
    "        \"5\": 115\n",
    "    }\n",
    "}\n",
    "\n",
    "df = pd.DataFrame(data)\n",
    "print(df)"
   ]
  },
  {
   "cell_type": "code",
   "execution_count": 61,
   "id": "36b66727-1cf6-4988-9de3-1e026abde337",
   "metadata": {},
   "outputs": [
    {
     "name": "stdout",
     "output_type": "stream",
     "text": [
      "   Year Industry_aggregation_NZSIOC Industry_code_NZSIOC Industry_name_NZSIOC  \\\n",
      "0  2023                     Level 1                99999       All industries   \n",
      "1  2023                     Level 1                99999       All industries   \n",
      "2  2023                     Level 1                99999       All industries   \n",
      "3  2023                     Level 1                99999       All industries   \n",
      "4  2023                     Level 1                99999       All industries   \n",
      "5  2023                     Level 1                99999       All industries   \n",
      "6  2023                     Level 1                99999       All industries   \n",
      "7  2023                     Level 1                99999       All industries   \n",
      "8  2023                     Level 1                99999       All industries   \n",
      "9  2023                     Level 1                99999       All industries   \n",
      "\n",
      "                Units Variable_code  \\\n",
      "0  Dollars (millions)           H01   \n",
      "1  Dollars (millions)           H04   \n",
      "2  Dollars (millions)           H05   \n",
      "3  Dollars (millions)           H07   \n",
      "4  Dollars (millions)           H08   \n",
      "5  Dollars (millions)           H09   \n",
      "6  Dollars (millions)           H10   \n",
      "7  Dollars (millions)           H11   \n",
      "8  Dollars (millions)           H12   \n",
      "9  Dollars (millions)           H13   \n",
      "\n",
      "                                     Variable_name      Variable_category  \\\n",
      "0                                     Total income  Financial performance   \n",
      "1  Sales, government funding, grants and subsidies  Financial performance   \n",
      "2                Interest, dividends and donations  Financial performance   \n",
      "3                             Non-operating income  Financial performance   \n",
      "4                                Total expenditure  Financial performance   \n",
      "5                           Interest and donations  Financial performance   \n",
      "6                                   Indirect taxes  Financial performance   \n",
      "7                                     Depreciation  Financial performance   \n",
      "8                          Salaries and wages paid  Financial performance   \n",
      "9                         Redundancy and severance  Financial performance   \n",
      "\n",
      "    Value                             Industry_code_ANZSIC06  \n",
      "0  930995  ANZSIC06 divisions A-S (excluding classes K633...  \n",
      "1  821630  ANZSIC06 divisions A-S (excluding classes K633...  \n",
      "2   84354  ANZSIC06 divisions A-S (excluding classes K633...  \n",
      "3   25010  ANZSIC06 divisions A-S (excluding classes K633...  \n",
      "4  832964  ANZSIC06 divisions A-S (excluding classes K633...  \n",
      "5   55267  ANZSIC06 divisions A-S (excluding classes K633...  \n",
      "6    7426  ANZSIC06 divisions A-S (excluding classes K633...  \n",
      "7   30814  ANZSIC06 divisions A-S (excluding classes K633...  \n",
      "8  147663  ANZSIC06 divisions A-S (excluding classes K633...  \n",
      "9     269  ANZSIC06 divisions A-S (excluding classes K633...  \n"
     ]
    }
   ],
   "source": [
    "#Analyzing data\n",
    "df = pd.read_csv('annual-enterprise-survey-2023-financial-year-provisional.csv')\n",
    "print(df.head(10))"
   ]
  },
  {
   "cell_type": "code",
   "execution_count": 63,
   "id": "a03471ba-0411-4248-9fb2-b301b89c58c3",
   "metadata": {},
   "outputs": [
    {
     "name": "stdout",
     "output_type": "stream",
     "text": [
      "   Year Industry_aggregation_NZSIOC Industry_code_NZSIOC Industry_name_NZSIOC  \\\n",
      "0  2023                     Level 1                99999       All industries   \n",
      "1  2023                     Level 1                99999       All industries   \n",
      "2  2023                     Level 1                99999       All industries   \n",
      "3  2023                     Level 1                99999       All industries   \n",
      "4  2023                     Level 1                99999       All industries   \n",
      "\n",
      "                Units Variable_code  \\\n",
      "0  Dollars (millions)           H01   \n",
      "1  Dollars (millions)           H04   \n",
      "2  Dollars (millions)           H05   \n",
      "3  Dollars (millions)           H07   \n",
      "4  Dollars (millions)           H08   \n",
      "\n",
      "                                     Variable_name      Variable_category  \\\n",
      "0                                     Total income  Financial performance   \n",
      "1  Sales, government funding, grants and subsidies  Financial performance   \n",
      "2                Interest, dividends and donations  Financial performance   \n",
      "3                             Non-operating income  Financial performance   \n",
      "4                                Total expenditure  Financial performance   \n",
      "\n",
      "    Value                             Industry_code_ANZSIC06  \n",
      "0  930995  ANZSIC06 divisions A-S (excluding classes K633...  \n",
      "1  821630  ANZSIC06 divisions A-S (excluding classes K633...  \n",
      "2   84354  ANZSIC06 divisions A-S (excluding classes K633...  \n",
      "3   25010  ANZSIC06 divisions A-S (excluding classes K633...  \n",
      "4  832964  ANZSIC06 divisions A-S (excluding classes K633...  \n"
     ]
    }
   ],
   "source": [
    "df = pd.read_csv('annual-enterprise-survey-2023-financial-year-provisional.csv')\n",
    "print(df.head())"
   ]
  },
  {
   "cell_type": "code",
   "execution_count": 65,
   "id": "d36c2c54-c71b-4039-885c-ce4625c05b58",
   "metadata": {},
   "outputs": [
    {
     "name": "stdout",
     "output_type": "stream",
     "text": [
      "       Year Industry_aggregation_NZSIOC Industry_code_NZSIOC  \\\n",
      "50980  2013                     Level 3                 ZZ11   \n",
      "50981  2013                     Level 3                 ZZ11   \n",
      "50982  2013                     Level 3                 ZZ11   \n",
      "50983  2013                     Level 3                 ZZ11   \n",
      "50984  2013                     Level 3                 ZZ11   \n",
      "\n",
      "             Industry_name_NZSIOC       Units Variable_code  \\\n",
      "50980  Food product manufacturing  Percentage           H37   \n",
      "50981  Food product manufacturing  Percentage           H38   \n",
      "50982  Food product manufacturing  Percentage           H39   \n",
      "50983  Food product manufacturing  Percentage           H40   \n",
      "50984  Food product manufacturing  Percentage           H41   \n",
      "\n",
      "                             Variable_name Variable_category Value  \\\n",
      "50980                          Quick ratio  Financial ratios    52   \n",
      "50981  Margin on sales of goods for resale  Financial ratios    40   \n",
      "50982                     Return on equity  Financial ratios    12   \n",
      "50983               Return on total assets  Financial ratios     5   \n",
      "50984                Liabilities structure  Financial ratios    46   \n",
      "\n",
      "                                  Industry_code_ANZSIC06  \n",
      "50980  ANZSIC06 groups C111, C112, C113, C114, C115, ...  \n",
      "50981  ANZSIC06 groups C111, C112, C113, C114, C115, ...  \n",
      "50982  ANZSIC06 groups C111, C112, C113, C114, C115, ...  \n",
      "50983  ANZSIC06 groups C111, C112, C113, C114, C115, ...  \n",
      "50984  ANZSIC06 groups C111, C112, C113, C114, C115, ...  \n"
     ]
    }
   ],
   "source": [
    "print(df.tail())"
   ]
  },
  {
   "cell_type": "code",
   "execution_count": 67,
   "id": "c028d51a-55d0-474b-ab9d-3791f3ada977",
   "metadata": {},
   "outputs": [
    {
     "name": "stdout",
     "output_type": "stream",
     "text": [
      "<class 'pandas.core.frame.DataFrame'>\n",
      "RangeIndex: 50985 entries, 0 to 50984\n",
      "Data columns (total 10 columns):\n",
      " #   Column                       Non-Null Count  Dtype \n",
      "---  ------                       --------------  ----- \n",
      " 0   Year                         50985 non-null  int64 \n",
      " 1   Industry_aggregation_NZSIOC  50985 non-null  object\n",
      " 2   Industry_code_NZSIOC         50985 non-null  object\n",
      " 3   Industry_name_NZSIOC         50985 non-null  object\n",
      " 4   Units                        50985 non-null  object\n",
      " 5   Variable_code                50985 non-null  object\n",
      " 6   Variable_name                50985 non-null  object\n",
      " 7   Variable_category            50985 non-null  object\n",
      " 8   Value                        50985 non-null  object\n",
      " 9   Industry_code_ANZSIC06       50985 non-null  object\n",
      "dtypes: int64(1), object(9)\n",
      "memory usage: 3.9+ MB\n",
      "None\n"
     ]
    }
   ],
   "source": [
    "print(df.info())"
   ]
  },
  {
   "cell_type": "code",
   "execution_count": null,
   "id": "5a7ebccb-5f2d-4423-8150-f44686d3b2ba",
   "metadata": {},
   "outputs": [],
   "source": []
  }
 ],
 "metadata": {
  "kernelspec": {
   "display_name": "Python 3 (ipykernel)",
   "language": "python",
   "name": "python3"
  },
  "language_info": {
   "codemirror_mode": {
    "name": "ipython",
    "version": 3
   },
   "file_extension": ".py",
   "mimetype": "text/x-python",
   "name": "python",
   "nbconvert_exporter": "python",
   "pygments_lexer": "ipython3",
   "version": "3.12.4"
  }
 },
 "nbformat": 4,
 "nbformat_minor": 5
}
