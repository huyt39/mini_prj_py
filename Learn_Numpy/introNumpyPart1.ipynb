{
 "cells": [
  {
   "cell_type": "code",
   "execution_count": 5,
   "id": "cc21c242-8644-47f6-bc86-a82c4d2ca717",
   "metadata": {},
   "outputs": [
    {
     "name": "stdout",
     "output_type": "stream",
     "text": [
      "[1 2 3]\n"
     ]
    }
   ],
   "source": [
    "import numpy as np\n",
    "a = np.array([1, 2, 3])\n",
    "print(a)"
   ]
  },
  {
   "cell_type": "code",
   "execution_count": 7,
   "id": "14b1aeac-0bd8-4efb-9b07-6f8f9696208e",
   "metadata": {},
   "outputs": [
    {
     "data": {
      "text/plain": [
       "1"
      ]
     },
     "execution_count": 7,
     "metadata": {},
     "output_type": "execute_result"
    }
   ],
   "source": [
    "a[0]"
   ]
  },
  {
   "cell_type": "code",
   "execution_count": 9,
   "id": "1c6bb6c5-bdf6-47a5-b462-64749672885a",
   "metadata": {},
   "outputs": [
    {
     "data": {
      "text/plain": [
       "2"
      ]
     },
     "execution_count": 9,
     "metadata": {},
     "output_type": "execute_result"
    }
   ],
   "source": [
    "a[1]"
   ]
  },
  {
   "cell_type": "code",
   "execution_count": 11,
   "id": "d636f9c1-b90b-4563-80a9-d9e898286efd",
   "metadata": {},
   "outputs": [
    {
     "data": {
      "text/plain": [
       "3"
      ]
     },
     "execution_count": 11,
     "metadata": {},
     "output_type": "execute_result"
    }
   ],
   "source": [
    "a[-1]"
   ]
  },
  {
   "cell_type": "code",
   "execution_count": null,
   "id": "59bddd1e-69b8-4d94-a876-b295984d63be",
   "metadata": {},
   "outputs": [],
   "source": [
    "import time\n",
    "import sys\n"
   ]
  },
  {
   "cell_type": "code",
   "execution_count": 20,
   "id": "dea72873-006c-495d-aebc-65217e7c3be8",
   "metadata": {},
   "outputs": [
    {
     "name": "stdout",
     "output_type": "stream",
     "text": [
      "28000\n"
     ]
    }
   ],
   "source": [
    "import time\n",
    "import sys\n",
    "b = range(1000)\n",
    "print(sys.getsizeof(5) * len(b))"
   ]
  },
  {
   "cell_type": "code",
   "execution_count": 22,
   "id": "d8c9584d-abb9-45a3-bd5e-46034a0e5932",
   "metadata": {},
   "outputs": [
    {
     "name": "stdout",
     "output_type": "stream",
     "text": [
      "8000\n"
     ]
    }
   ],
   "source": [
    "import time\n",
    "import sys\n",
    "c = np.arange(1000)\n",
    "print (c.size*c.itemsize)"
   ]
  },
  {
   "cell_type": "code",
   "execution_count": 30,
   "id": "789ab738-88cf-4aa0-bcea-6ec345f7043f",
   "metadata": {},
   "outputs": [
    {
     "name": "stdout",
     "output_type": "stream",
     "text": [
      "<class 'numpy.ndarray'>\n"
     ]
    },
    {
     "data": {
      "text/plain": [
       "array([2, 3, 4, 5, 6])"
      ]
     },
     "execution_count": 30,
     "metadata": {},
     "output_type": "execute_result"
    }
   ],
   "source": [
    "list1 = [0, 1, 2, 3, 4]\n",
    "arr = np.array(list1)\n",
    "\n",
    "print(type(arr))\n",
    "arr+2\n"
   ]
  },
  {
   "cell_type": "code",
   "execution_count": 38,
   "id": "f7053c26-f3d9-43a7-b0b5-2ead888dc109",
   "metadata": {},
   "outputs": [
    {
     "data": {
      "text/plain": [
       "array([[0., 1., 2.],\n",
       "       [3., 4., 5.]])"
      ]
     },
     "execution_count": 38,
     "metadata": {},
     "output_type": "execute_result"
    }
   ],
   "source": [
    "list2=[[0, 1, 2], [3, 4, 5]]\n",
    "arr1 = np.array(list2, dtype=float)\n",
    "arr1"
   ]
  },
  {
   "cell_type": "code",
   "execution_count": 46,
   "id": "b7f685bb-6370-4e3a-8561-d01647c6aad7",
   "metadata": {},
   "outputs": [
    {
     "data": {
      "text/plain": [
       "array([['False', 'True', 'True'],\n",
       "       ['True', 'True', 'True']], dtype='<U5')"
      ]
     },
     "execution_count": 46,
     "metadata": {},
     "output_type": "execute_result"
    }
   ],
   "source": [
    "arr1.astype('bool').astype('str')"
   ]
  },
  {
   "cell_type": "code",
   "execution_count": 56,
   "id": "a727a210-a1cc-46eb-a1c7-d6733008e261",
   "metadata": {},
   "outputs": [
    {
     "data": {
      "text/plain": [
       "array([ True,  True, False])"
      ]
     },
     "execution_count": 56,
     "metadata": {},
     "output_type": "execute_result"
    }
   ],
   "source": [
    "arr3 = np.array([1, 2, 0], dtype='bool')\n",
    "arr3"
   ]
  },
  {
   "cell_type": "code",
   "execution_count": 70,
   "id": "e15f55e1-32a2-4a2c-bddc-935a75ec5481",
   "metadata": {},
   "outputs": [
    {
     "data": {
      "text/plain": [
       "array([1, 'a'], dtype=object)"
      ]
     },
     "execution_count": 70,
     "metadata": {},
     "output_type": "execute_result"
    }
   ],
   "source": [
    "arr4 = np.array([1, 'a'], dtype = 'object')\n",
    "arr5 = arr4.tolist()\n",
    "arr4\n"
   ]
  },
  {
   "cell_type": "code",
   "execution_count": 72,
   "id": "e4bcc8ff-7184-4b5b-9855-c9aeeb983f91",
   "metadata": {},
   "outputs": [
    {
     "data": {
      "text/plain": [
       "array([[0., 1., 2., 3.],\n",
       "       [4., 5., 6., 7.],\n",
       "       [5., 6., 7., 8.]])"
      ]
     },
     "execution_count": 72,
     "metadata": {},
     "output_type": "execute_result"
    }
   ],
   "source": [
    "list3 = [[0, 1, 2, 3], [4, 5, 6, 7], [5, 6, 7, 8]]\n",
    "arr2 = np.array(list3, dtype = 'float')\n",
    "arr2"
   ]
  },
  {
   "cell_type": "code",
   "execution_count": 76,
   "id": "5e6f52da-dc93-4668-abea-58f12dcb2e01",
   "metadata": {},
   "outputs": [
    {
     "name": "stdout",
     "output_type": "stream",
     "text": [
      "Shape:  (3, 4)\n",
      "Data type:  float64\n",
      "Size:  12\n",
      "Num Dimensions:  2\n"
     ]
    }
   ],
   "source": [
    "print (\"Shape: \", arr2.shape)\n",
    "print (\"Data type: \", arr2.dtype)\n",
    "print (\"Size: \", arr2.size)\n",
    "print (\"Num Dimensions: \", arr2.ndim)"
   ]
  },
  {
   "cell_type": "code",
   "execution_count": 78,
   "id": "31864941-aeeb-46cf-8a0a-8922ecc8898b",
   "metadata": {},
   "outputs": [
    {
     "data": {
      "text/plain": [
       "array([[0., 1.],\n",
       "       [4., 5.]])"
      ]
     },
     "execution_count": 78,
     "metadata": {},
     "output_type": "execute_result"
    }
   ],
   "source": [
    "arr2 [:2, :2]"
   ]
  },
  {
   "cell_type": "code",
   "execution_count": 80,
   "id": "34bc4863-ee46-4787-b8b3-7b46f3d45a50",
   "metadata": {},
   "outputs": [
    {
     "data": {
      "text/plain": [
       "array([[False, False, False, False],\n",
       "       [False,  True,  True,  True],\n",
       "       [ True,  True,  True,  True]])"
      ]
     },
     "execution_count": 80,
     "metadata": {},
     "output_type": "execute_result"
    }
   ],
   "source": [
    "b = arr2 > 4\n",
    "b"
   ]
  },
  {
   "cell_type": "code",
   "execution_count": 82,
   "id": "e2ae1b73-f00a-411a-bd11-bd5e56e6e6d8",
   "metadata": {},
   "outputs": [
    {
     "data": {
      "text/plain": [
       "array([5., 6., 7., 5., 6., 7., 8.])"
      ]
     },
     "execution_count": 82,
     "metadata": {},
     "output_type": "execute_result"
    }
   ],
   "source": [
    "arr2[b]"
   ]
  },
  {
   "cell_type": "code",
   "execution_count": 84,
   "id": "f26ed07c-c457-4d34-b422-47b764f5c282",
   "metadata": {},
   "outputs": [
    {
     "data": {
      "text/plain": [
       "array([[5., 6., 7., 8.],\n",
       "       [4., 5., 6., 7.],\n",
       "       [0., 1., 2., 3.]])"
      ]
     },
     "execution_count": 84,
     "metadata": {},
     "output_type": "execute_result"
    }
   ],
   "source": [
    "arr2[::-1, ]"
   ]
  },
  {
   "cell_type": "code",
   "execution_count": 86,
   "id": "890db560-dca0-4bb9-badd-9378d15402b8",
   "metadata": {},
   "outputs": [
    {
     "data": {
      "text/plain": [
       "array([[8., 7., 6., 5.],\n",
       "       [7., 6., 5., 4.],\n",
       "       [3., 2., 1., 0.]])"
      ]
     },
     "execution_count": 86,
     "metadata": {},
     "output_type": "execute_result"
    }
   ],
   "source": [
    "arr2[::-1, ::-1]"
   ]
  },
  {
   "cell_type": "code",
   "execution_count": 88,
   "id": "8cd323ac-864f-49be-994e-98f6c5838ed3",
   "metadata": {},
   "outputs": [
    {
     "data": {
      "text/plain": [
       "array([[ 0.,  1.,  2.,  3.],\n",
       "       [ 4., nan, inf,  7.],\n",
       "       [ 5.,  6.,  7.,  8.]])"
      ]
     },
     "execution_count": 88,
     "metadata": {},
     "output_type": "execute_result"
    }
   ],
   "source": [
    "arr2[1,1] = np.nan\n",
    "arr2[1,2] = np.inf\n",
    "arr2"
   ]
  },
  {
   "cell_type": "code",
   "execution_count": 90,
   "id": "ecbb644a-45f5-446b-8e13-2ceb6238f74c",
   "metadata": {},
   "outputs": [
    {
     "data": {
      "text/plain": [
       "array([[ 0.,  1.,  2.,  3.],\n",
       "       [ 4., -1., -1.,  7.],\n",
       "       [ 5.,  6.,  7.,  8.]])"
      ]
     },
     "execution_count": 90,
     "metadata": {},
     "output_type": "execute_result"
    }
   ],
   "source": [
    "missing_bool = np.isnan(arr2) | np.isinf(arr2)\n",
    "arr2[missing_bool] = -1\n",
    "arr2"
   ]
  },
  {
   "cell_type": "code",
   "execution_count": 92,
   "id": "d52d3072-8d47-46cf-8d7d-0c2426aefe76",
   "metadata": {},
   "outputs": [
    {
     "name": "stdout",
     "output_type": "stream",
     "text": [
      "Mean Value:  3.4166666666666665\n",
      "Max Value:  8.0\n",
      "Min Value:  -1.0\n"
     ]
    }
   ],
   "source": [
    "print (\"Mean Value: \", arr2.mean())\n",
    "print (\"Max Value: \", arr2.max())\n",
    "print (\"Min Value: \", arr2.min())"
   ]
  },
  {
   "cell_type": "code",
   "execution_count": 96,
   "id": "04318380-5a8a-4e0a-838d-014177522378",
   "metadata": {},
   "outputs": [
    {
     "name": "stdout",
     "output_type": "stream",
     "text": [
      "Column wise minimun:  [ 0. -1. -1.  3.]\n",
      "Row wise minimum:  [ 0. -1.  5.]\n"
     ]
    }
   ],
   "source": [
    "print (\"Column wise minimun: \", np.amin(arr2, axis = 0))\n",
    "print (\"Row wise minimum: \", np.amin(arr2, axis = 1))"
   ]
  },
  {
   "cell_type": "code",
   "execution_count": 98,
   "id": "825164c9-1c35-402c-99b6-42940d2d96da",
   "metadata": {},
   "outputs": [
    {
     "data": {
      "text/plain": [
       "array([ 0.,  1.,  3.,  6., 10.,  9.,  8., 15., 20., 26., 33., 41.])"
      ]
     },
     "execution_count": 98,
     "metadata": {},
     "output_type": "execute_result"
    }
   ],
   "source": [
    "np.cumsum(arr2)"
   ]
  },
  {
   "cell_type": "code",
   "execution_count": 100,
   "id": "18c591cf-d56a-4071-a815-9731a4943060",
   "metadata": {},
   "outputs": [
    {
     "data": {
      "text/plain": [
       "array([[ 0.,  1.,  2.,  3.],\n",
       "       [ 4., -1., -1.,  7.],\n",
       "       [ 5.,  6.,  7.,  8.]])"
      ]
     },
     "execution_count": 100,
     "metadata": {},
     "output_type": "execute_result"
    }
   ],
   "source": [
    "arr2a = arr2[:2, :2].copy()\n",
    "arr2a[:1, :1] = 101\n",
    "arr2"
   ]
  },
  {
   "cell_type": "code",
   "execution_count": 104,
   "id": "441b1211-11d0-4e8b-861e-5f18ca094a03",
   "metadata": {},
   "outputs": [
    {
     "data": {
      "text/plain": [
       "array([[101.,   1.],\n",
       "       [  4.,  -1.]])"
      ]
     },
     "execution_count": 104,
     "metadata": {},
     "output_type": "execute_result"
    }
   ],
   "source": [
    "arr2a"
   ]
  },
  {
   "cell_type": "code",
   "execution_count": 106,
   "id": "c4a8488e-412c-4e72-9f4f-d45788844a64",
   "metadata": {},
   "outputs": [
    {
     "data": {
      "text/plain": [
       "array([[0.]])"
      ]
     },
     "execution_count": 106,
     "metadata": {},
     "output_type": "execute_result"
    }
   ],
   "source": [
    "arr2[:1, :1]"
   ]
  },
  {
   "cell_type": "code",
   "execution_count": 108,
   "id": "ca6647db-1f5b-41b7-8190-e0ba552a84dd",
   "metadata": {},
   "outputs": [
    {
     "data": {
      "text/plain": [
       "array([[ 0.,  1.,  2.],\n",
       "       [ 3.,  4., -1.],\n",
       "       [-1.,  7.,  5.],\n",
       "       [ 6.,  7.,  8.]])"
      ]
     },
     "execution_count": 108,
     "metadata": {},
     "output_type": "execute_result"
    }
   ],
   "source": [
    "#Reshaping and Flattening Multidimensional arrays:\n",
    "arr2.reshape(4, 3)"
   ]
  },
  {
   "cell_type": "code",
   "execution_count": 110,
   "id": "f09f50f1-81ab-4630-9df3-e566985f738b",
   "metadata": {},
   "outputs": [
    {
     "data": {
      "text/plain": [
       "array([ 0.,  1.,  2.,  3.,  4., -1., -1.,  7.,  5.,  6.,  7.,  8.])"
      ]
     },
     "execution_count": 110,
     "metadata": {},
     "output_type": "execute_result"
    }
   ],
   "source": [
    "#Difference between flatten and ravel=>ravel refer parent array\n",
    "arr2.flatten()"
   ]
  },
  {
   "cell_type": "code",
   "execution_count": 112,
   "id": "5e73489c-a2a8-4173-9b20-1c0ba9ab0954",
   "metadata": {},
   "outputs": [
    {
     "data": {
      "text/plain": [
       "array([[ 0.,  1.,  2.,  3.],\n",
       "       [ 4., -1., -1.,  7.],\n",
       "       [ 5.,  6.,  7.,  8.]])"
      ]
     },
     "execution_count": 112,
     "metadata": {},
     "output_type": "execute_result"
    }
   ],
   "source": [
    "b1 = arr2.flatten()\n",
    "b1[0] = 100\n",
    "arr2"
   ]
  },
  {
   "cell_type": "code",
   "execution_count": 114,
   "id": "2066a975-17fa-4d38-8a33-7d19a1271b94",
   "metadata": {},
   "outputs": [
    {
     "data": {
      "text/plain": [
       "array([100.,   1.,   2.,   3.,   4.,  -1.,  -1.,   7.,   5.,   6.,   7.,\n",
       "         8.])"
      ]
     },
     "execution_count": 114,
     "metadata": {},
     "output_type": "execute_result"
    }
   ],
   "source": [
    "b1"
   ]
  },
  {
   "cell_type": "code",
   "execution_count": 116,
   "id": "f0953e61-4c7c-4f2c-bf7e-f8db353d8d54",
   "metadata": {},
   "outputs": [
    {
     "data": {
      "text/plain": [
       "array([[101.,   1.,   2.,   3.],\n",
       "       [  4.,  -1.,  -1.,   7.],\n",
       "       [  5.,   6.,   7.,   8.]])"
      ]
     },
     "execution_count": 116,
     "metadata": {},
     "output_type": "execute_result"
    }
   ],
   "source": [
    "b2 = arr2.ravel()\n",
    "b2[0] = 101\n",
    "arr2"
   ]
  },
  {
   "cell_type": "code",
   "execution_count": 118,
   "id": "57e59dd2-b78d-4e2e-8c84-40d2ce6293cd",
   "metadata": {},
   "outputs": [
    {
     "data": {
      "text/plain": [
       "array([101.,   1.,   2.,   3.,   4.,  -1.,  -1.,   7.,   5.,   6.,   7.,\n",
       "         8.])"
      ]
     },
     "execution_count": 118,
     "metadata": {},
     "output_type": "execute_result"
    }
   ],
   "source": [
    "b2"
   ]
  },
  {
   "cell_type": "code",
   "execution_count": 120,
   "id": "103e83e1-d681-4bb6-8fbc-cfcc31fc229b",
   "metadata": {},
   "outputs": [
    {
     "name": "stdout",
     "output_type": "stream",
     "text": [
      "[0 1 2 3 4]\n"
     ]
    }
   ],
   "source": [
    "#Create sequences, repetitions and random numbers \n",
    "print (np.arange(5))"
   ]
  },
  {
   "cell_type": "code",
   "execution_count": 122,
   "id": "c1c5ca76-38a3-4eb3-ba16-c20b05f3c9e1",
   "metadata": {},
   "outputs": [
    {
     "name": "stdout",
     "output_type": "stream",
     "text": [
      "[0 1 2 3 4 5 6 7 8 9]\n"
     ]
    }
   ],
   "source": [
    "print (np.arange(0, 10))\n"
   ]
  },
  {
   "cell_type": "code",
   "execution_count": 126,
   "id": "a4c7aee4-9b92-4b6c-bedf-5aa6e0ea0ac7",
   "metadata": {},
   "outputs": [
    {
     "name": "stdout",
     "output_type": "stream",
     "text": [
      "[0 2 4 6 8]\n"
     ]
    }
   ],
   "source": [
    "print (np.arange(0, 10, 2))"
   ]
  },
  {
   "cell_type": "code",
   "execution_count": 128,
   "id": "ad1bbc26-1123-4d09-9db5-66293e8f6148",
   "metadata": {},
   "outputs": [
    {
     "name": "stdout",
     "output_type": "stream",
     "text": [
      "[10  9  8  7  6  5  4  3  2  1]\n"
     ]
    }
   ],
   "source": [
    "print (np.arange(10, 0, -1))"
   ]
  },
  {
   "cell_type": "code",
   "execution_count": 130,
   "id": "72667c4b-3e25-40a5-b210-d78cae5288a4",
   "metadata": {},
   "outputs": [
    {
     "data": {
      "text/plain": [
       "array([ 1,  6, 11, 17, 22, 28, 33, 39, 44, 50])"
      ]
     },
     "execution_count": 130,
     "metadata": {},
     "output_type": "execute_result"
    }
   ],
   "source": [
    "np.linspace (start = 1, stop = 50, num = 10, dtype = int)"
   ]
  },
  {
   "cell_type": "code",
   "execution_count": 132,
   "id": "836e0f3e-b483-4ecf-ba95-eca86c6db832",
   "metadata": {},
   "outputs": [
    {
     "data": {
      "text/plain": [
       "array([1.00e+01, 2.78e+06, 7.74e+11, 2.15e+17, 5.99e+22, 1.67e+28,\n",
       "       4.64e+33, 1.29e+39, 3.59e+44, 1.00e+50])"
      ]
     },
     "execution_count": 132,
     "metadata": {},
     "output_type": "execute_result"
    }
   ],
   "source": [
    "np.set_printoptions(precision = 2)\n",
    "np.logspace(start = 1, stop = 50, num = 10, base = 10)"
   ]
  },
  {
   "cell_type": "code",
   "execution_count": 134,
   "id": "30fdf364-7ea5-46cc-ad7f-49db8db975e2",
   "metadata": {},
   "outputs": [
    {
     "data": {
      "text/plain": [
       "array([[0., 0.],\n",
       "       [0., 0.]])"
      ]
     },
     "execution_count": 134,
     "metadata": {},
     "output_type": "execute_result"
    }
   ],
   "source": [
    "np.zeros([2, 2])"
   ]
  },
  {
   "cell_type": "code",
   "execution_count": 136,
   "id": "33ab321e-ed2a-4f37-99d8-d680509568cd",
   "metadata": {},
   "outputs": [
    {
     "data": {
      "text/plain": [
       "array([[1., 1., 1.],\n",
       "       [1., 1., 1.],\n",
       "       [1., 1., 1.]])"
      ]
     },
     "execution_count": 136,
     "metadata": {},
     "output_type": "execute_result"
    }
   ],
   "source": [
    "np.ones([3, 3])"
   ]
  },
  {
   "cell_type": "code",
   "execution_count": 3,
   "id": "48048dfb-e5e3-400a-a013-9a43cc758027",
   "metadata": {},
   "outputs": [
    {
     "name": "stdout",
     "output_type": "stream",
     "text": [
      "Tile:  [1 2 3 4 5 1 2 3 4 5]\n"
     ]
    }
   ],
   "source": [
    "#Create repeating sequences:\n",
    "import numpy as np\n",
    "a = [1, 2, 3, 4, 5]\n",
    "print ('Tile: ', np.tile(a, 2))"
   ]
  },
  {
   "cell_type": "code",
   "execution_count": 144,
   "id": "17fdd950-b645-43cc-b38e-3e3c2d92d857",
   "metadata": {},
   "outputs": [
    {
     "name": "stdout",
     "output_type": "stream",
     "text": [
      "Repeat:  [1 1 2 2 3 3 4 4 5 5]\n"
     ]
    }
   ],
   "source": [
    "print (\"Repeat: \", np.repeat(a, 2))"
   ]
  },
  {
   "cell_type": "code",
   "execution_count": 146,
   "id": "ee523ddc-58d1-49ee-a19f-3be31f0fffd5",
   "metadata": {},
   "outputs": [
    {
     "name": "stdout",
     "output_type": "stream",
     "text": [
      "[[0.5  0.4 ]\n",
      " [0.48 0.11]]\n"
     ]
    }
   ],
   "source": [
    "#Generate random numbers:\n",
    "print (np.random.rand(2, 2))"
   ]
  },
  {
   "cell_type": "code",
   "execution_count": 148,
   "id": "cac34120-37ba-443f-b1b3-3400a1218915",
   "metadata": {},
   "outputs": [
    {
     "name": "stdout",
     "output_type": "stream",
     "text": [
      "[[ 2.08 -1.81]\n",
      " [-1.19  0.28]]\n"
     ]
    }
   ],
   "source": [
    "print (np.random.randn(2, 2))"
   ]
  },
  {
   "cell_type": "code",
   "execution_count": 150,
   "id": "def9c6ac-e68f-4a57-a13f-e85874ee244b",
   "metadata": {},
   "outputs": [
    {
     "name": "stdout",
     "output_type": "stream",
     "text": [
      "[[3 3]\n",
      " [7 3]]\n"
     ]
    }
   ],
   "source": [
    "print (np.random.randint(0, 10, size = [2,2]))"
   ]
  },
  {
   "cell_type": "code",
   "execution_count": 152,
   "id": "224ccc6f-7fba-4986-b4ea-44531e1a2ea6",
   "metadata": {},
   "outputs": [
    {
     "name": "stdout",
     "output_type": "stream",
     "text": [
      "0.03336921443362906\n",
      "[[0.05 0.46]\n",
      " [0.91 0.12]]\n"
     ]
    }
   ],
   "source": [
    "print (np.random.random())\n",
    "print (np.random.random(size = [2, 2]))"
   ]
  },
  {
   "cell_type": "code",
   "execution_count": 156,
   "id": "dbf98e1a-5906-4282-a767-01007f9f90f5",
   "metadata": {},
   "outputs": [
    {
     "name": "stdout",
     "output_type": "stream",
     "text": [
      "['e' 'o' 'a' 'e' 'u' 'o' 'i' 'i' 'a' 'e']\n",
      "['u' 'a' 'u' 'a' 'e' 'a' 'o' 'e' 'a' 'e']\n"
     ]
    }
   ],
   "source": [
    "print (np.random.choice(['a', 'u', 'o', 'e', 'i'], size = 10))\n",
    "print (np.random.choice(['a', 'u', 'o', 'e', 'i'], size = 10, p = [0.3, .1, 0.1, 0.4, 0.1]))\n",
    "       "
   ]
  },
  {
   "cell_type": "code",
   "execution_count": 158,
   "id": "ea8d33e5-e7f5-485e-a146-b640316c776e",
   "metadata": {},
   "outputs": [
    {
     "name": "stdout",
     "output_type": "stream",
     "text": [
      "[[0.54 0.28]\n",
      " [0.42 0.84]]\n"
     ]
    }
   ],
   "source": [
    "rn = np.random.RandomState(100)\n",
    "print (rn.rand(2, 2))"
   ]
  },
  {
   "cell_type": "code",
   "execution_count": 162,
   "id": "c4f102b3-4275-423a-b9bf-d4e926f90108",
   "metadata": {},
   "outputs": [
    {
     "name": "stdout",
     "output_type": "stream",
     "text": [
      "[[0.54 0.28]\n",
      " [0.42 0.84]]\n"
     ]
    }
   ],
   "source": [
    "np.random.seed(100)\n",
    "print(np.random.rand(2, 2))"
   ]
  },
  {
   "cell_type": "code",
   "execution_count": 164,
   "id": "d2258973-2e82-4356-be0b-b902ce69024e",
   "metadata": {},
   "outputs": [
    {
     "name": "stdout",
     "output_type": "stream",
     "text": [
      "[8 8 3 7 7 0 4 2 5 2]\n"
     ]
    }
   ],
   "source": [
    "\n",
    "#Get the unique items and the counts\n",
    "\n",
    "#Create random integers of size 10 between [0, 10):\n",
    "np.random.seed(100)\n",
    "arr_rand = np.random.randint(0, 10, size = 10)\n",
    "print (arr_rand)\n"
   ]
  },
  {
   "cell_type": "code",
   "execution_count": 168,
   "id": "027ef217-dd05-414f-a79e-1f79311ef0f0",
   "metadata": {},
   "outputs": [
    {
     "name": "stdout",
     "output_type": "stream",
     "text": [
      "Unique items:  [0 2 3 4 5 7 8]\n",
      "Counts:  [1 2 1 1 1 2 2]\n"
     ]
    }
   ],
   "source": [
    "#Get the unique items and their counts:\n",
    "uniqs, counts = np.unique(arr_rand, return_counts = True)\n",
    "print(\"Unique items: \", uniqs)\n",
    "print(\"Counts: \", counts)\n"
   ]
  },
  {
   "cell_type": "code",
   "execution_count": null,
   "id": "eb2c5478-2237-40b4-9702-e51e3e2b66cb",
   "metadata": {},
   "outputs": [],
   "source": []
  }
 ],
 "metadata": {
  "kernelspec": {
   "display_name": "Python 3 (ipykernel)",
   "language": "python",
   "name": "python3"
  },
  "language_info": {
   "codemirror_mode": {
    "name": "ipython",
    "version": 3
   },
   "file_extension": ".py",
   "mimetype": "text/x-python",
   "name": "python",
   "nbconvert_exporter": "python",
   "pygments_lexer": "ipython3",
   "version": "3.12.4"
  }
 },
 "nbformat": 4,
 "nbformat_minor": 5
}
