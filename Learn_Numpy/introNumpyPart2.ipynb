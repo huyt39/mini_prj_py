{
 "cells": [
  {
   "cell_type": "code",
   "execution_count": 1,
   "id": "0f73b611-84c2-484f-9e41-9fb73dc1fb27",
   "metadata": {},
   "outputs": [
    {
     "name": "stdout",
     "output_type": "stream",
     "text": [
      "Array:  [8 8 3 7 7 0 4 2 5 2]\n",
      "Positions where value > 5:  (array([0, 1, 3, 4]),)\n"
     ]
    }
   ],
   "source": [
    "import numpy as np\n",
    "arr_rand = np.array([8, 8, 3, 7, 7, 0, 4, 2, 5, 2])\n",
    "print (\"Array: \", arr_rand)\n",
    "\n",
    "index_gt5 = np.where(arr_rand > 5)\n",
    "print (\"Positions where value > 5: \", index_gt5)"
   ]
  },
  {
   "cell_type": "code",
   "execution_count": 3,
   "id": "049ba190-b13c-4683-af7d-d1ebb128182d",
   "metadata": {},
   "outputs": [
    {
     "data": {
      "text/plain": [
       "array([[8, 8, 7, 7]])"
      ]
     },
     "execution_count": 3,
     "metadata": {},
     "output_type": "execute_result"
    }
   ],
   "source": [
    "arr_rand.take(index_gt5)"
   ]
  },
  {
   "cell_type": "code",
   "execution_count": 5,
   "id": "67c4eaa5-a480-46c8-aebd-4f9d8496ce46",
   "metadata": {},
   "outputs": [
    {
     "data": {
      "text/plain": [
       "array(['gt5', 'gt5', 'le5', 'gt5', 'gt5', 'le5', 'le5', 'le5', 'le5',\n",
       "       'le5'], dtype='<U3')"
      ]
     },
     "execution_count": 5,
     "metadata": {},
     "output_type": "execute_result"
    }
   ],
   "source": [
    "np.where(arr_rand > 5, 'gt5', 'le5')"
   ]
  },
  {
   "cell_type": "code",
   "execution_count": 7,
   "id": "5c9d4bcf-be2b-4c2d-b904-04d8ac043771",
   "metadata": {},
   "outputs": [
    {
     "name": "stdout",
     "output_type": "stream",
     "text": [
      "Position of max value:  0\n",
      "Position of min value:  5\n"
     ]
    }
   ],
   "source": [
    "print (\"Position of max value: \", np.argmax(arr_rand))\n",
    "print (\"Position of min value: \", np.argmin(arr_rand))"
   ]
  },
  {
   "cell_type": "code",
   "execution_count": 9,
   "id": "b0fb9140-a50f-439c-95f6-60f325987ab7",
   "metadata": {},
   "outputs": [
    {
     "data": {
      "text/plain": [
       "array([[  18. ,    8. ,  307. ,  130. , 3504. ,   12. ,   70. ,    1. ,\n",
       "        -999. ],\n",
       "       [  15. ,    8. ,  350. ,  165. , 3693. ,   11.5,   70. ,    1. ,\n",
       "        -999. ],\n",
       "       [  18. ,    8. ,  318. ,  150. , 3436. ,   11. ,   70. ,    1. ,\n",
       "        -999. ]])"
      ]
     },
     "execution_count": 9,
     "metadata": {},
     "output_type": "execute_result"
    }
   ],
   "source": [
    "#Turn off scientific notation:\n",
    "np.set_printoptions(suppress = True)\n",
    "#import data from csv file:\n",
    "path = 'https://raw.githubusercontent.com/selva86/datasets/master/Auto.csv'\n",
    "data = np.genfromtxt(path, delimiter=',', skip_header=1, filling_values=-999, dtype='float')\n",
    "data[:3]  # see first 3 rows"
   ]
  },
  {
   "cell_type": "code",
   "execution_count": 15,
   "id": "e08cadeb-523a-44b4-8559-208580e0d3e8",
   "metadata": {},
   "outputs": [
    {
     "name": "stderr",
     "output_type": "stream",
     "text": [
      "/var/folders/05/310yv1ls3hs58pczf9v97xvr0000gn/T/ipykernel_8288/3583732618.py:2: VisibleDeprecationWarning: Reading unicode strings without specifying the encoding argument is deprecated. Set the encoding, use None for the system default.\n",
      "  data2 = np.genfromtxt(path, delimiter=',', skip_header=1, dtype=None)\n"
     ]
    },
    {
     "data": {
      "text/plain": [
       "array([(18., 8, 307., 130, 3504, 12. , 70, 1, b'\"chevrolet chevelle malibu\"'),\n",
       "       (15., 8, 350., 165, 3693, 11.5, 70, 1, b'\"buick skylark 320\"'),\n",
       "       (18., 8, 318., 150, 3436, 11. , 70, 1, b'\"plymouth satellite\"')],\n",
       "      dtype=[('f0', '<f8'), ('f1', '<i8'), ('f2', '<f8'), ('f3', '<i8'), ('f4', '<i8'), ('f5', '<f8'), ('f6', '<i8'), ('f7', '<i8'), ('f8', 'S38')])"
      ]
     },
     "execution_count": 15,
     "metadata": {},
     "output_type": "execute_result"
    }
   ],
   "source": [
    "#Handle datasets that has both numbers and text columns:\n",
    "data2 = np.genfromtxt(path, delimiter=',', skip_header=1, dtype=None)\n",
    "data2[:3]"
   ]
  },
  {
   "cell_type": "code",
   "execution_count": 19,
   "id": "8c7c84a4-48d0-4894-b51a-3c7e3b790fb1",
   "metadata": {},
   "outputs": [],
   "source": [
    "np.savetxt(\"out.csv\", data, delimiter = ',') #save the array as a csv file\n"
   ]
  },
  {
   "cell_type": "code",
   "execution_count": 37,
   "id": "326078f1-a646-4d82-b74c-17ad9e8d7121",
   "metadata": {},
   "outputs": [],
   "source": [
    "#save and load numpy objects:\n",
    "#save single numpy array object as .npy file:\n",
    "arr2d = np.array([[1, 2, 3], [4, 5, 6], [7, 8, 9]])\n",
    "arr2d_f = np.arange(10)\n",
    "arr2d_b = np.arange(10)\n",
    "np.save('myarray.npy', arr2d)\n",
    "#save multiple numpy arrays as .npz file:\n",
    "np.savez('array.npz', arr2d_f, arr2d_b)\n"
   ]
  },
  {
   "cell_type": "code",
   "execution_count": 39,
   "id": "c552044b-1c95-4105-b7c0-e8d9067dd713",
   "metadata": {},
   "outputs": [
    {
     "name": "stdout",
     "output_type": "stream",
     "text": [
      "[[1 2 3]\n",
      " [4 5 6]\n",
      " [7 8 9]]\n"
     ]
    }
   ],
   "source": [
    "#load back the .npy file:\n",
    "a = np.load('myarray.npy')\n",
    "print(a)"
   ]
  },
  {
   "cell_type": "code",
   "execution_count": 43,
   "id": "0bb8b905-b1c8-461c-958f-fc70d9328e68",
   "metadata": {},
   "outputs": [
    {
     "name": "stdout",
     "output_type": "stream",
     "text": [
      "['arr_0', 'arr_1']\n"
     ]
    },
    {
     "data": {
      "text/plain": [
       "array([0, 1, 2, 3, 4, 5, 6, 7, 8, 9])"
      ]
     },
     "execution_count": 43,
     "metadata": {},
     "output_type": "execute_result"
    }
   ],
   "source": [
    "#load back the .npz file:\n",
    "b = np.load('array.npz')\n",
    "print(b.files)\n",
    "b['arr_0']"
   ]
  },
  {
   "cell_type": "code",
   "execution_count": 45,
   "id": "6ca85841-aa91-482b-aec0-1992489f60ea",
   "metadata": {},
   "outputs": [
    {
     "data": {
      "text/plain": [
       "array([[0., 0., 0., 0.],\n",
       "       [0., 0., 0., 0.],\n",
       "       [0., 0., 0., 0.],\n",
       "       [0., 0., 0., 0.]])"
      ]
     },
     "execution_count": 45,
     "metadata": {},
     "output_type": "execute_result"
    }
   ],
   "source": [
    "#How to concatenate two numpy arrays columnwise and row wise:\n",
    "#3 ways: np.concatenate, np.vstack and np.hstack, np.r_ and np.c_\n",
    "#All three methods provide the same output. One key difference to notice is unlike the other 2 methods, both np.r_ and np.c_ use square brackets to stack arrays\n",
    "a = np.zeros([4, 4])\n",
    "b = np.ones([4, 4])\n",
    "a"
   ]
  },
  {
   "cell_type": "code",
   "execution_count": 47,
   "id": "4a8388c9-5412-4e76-925d-3a14598841d4",
   "metadata": {},
   "outputs": [
    {
     "data": {
      "text/plain": [
       "array([[1., 1., 1., 1.],\n",
       "       [1., 1., 1., 1.],\n",
       "       [1., 1., 1., 1.],\n",
       "       [1., 1., 1., 1.]])"
      ]
     },
     "execution_count": 47,
     "metadata": {},
     "output_type": "execute_result"
    }
   ],
   "source": [
    "b"
   ]
  },
  {
   "cell_type": "code",
   "execution_count": 49,
   "id": "5892f271-9c62-46bd-b849-92ea5c99e8e7",
   "metadata": {},
   "outputs": [
    {
     "name": "stdout",
     "output_type": "stream",
     "text": [
      "[[0. 0. 0. 0.]\n",
      " [0. 0. 0. 0.]\n",
      " [0. 0. 0. 0.]\n",
      " [0. 0. 0. 0.]]\n",
      "[[1. 1. 1. 1.]\n",
      " [1. 1. 1. 1.]\n",
      " [1. 1. 1. 1.]\n",
      " [1. 1. 1. 1.]]\n"
     ]
    }
   ],
   "source": [
    "print(a)\n",
    "print(b)"
   ]
  },
  {
   "cell_type": "code",
   "execution_count": 51,
   "id": "16966b40-ac32-4d1d-82b8-07394e3eb776",
   "metadata": {},
   "outputs": [
    {
     "data": {
      "text/plain": [
       "array([[0., 0., 0., 0.],\n",
       "       [0., 0., 0., 0.],\n",
       "       [0., 0., 0., 0.],\n",
       "       [0., 0., 0., 0.],\n",
       "       [1., 1., 1., 1.],\n",
       "       [1., 1., 1., 1.],\n",
       "       [1., 1., 1., 1.],\n",
       "       [1., 1., 1., 1.]])"
      ]
     },
     "execution_count": 51,
     "metadata": {},
     "output_type": "execute_result"
    }
   ],
   "source": [
    "#Vertical stack equivalents: (row wise)\n",
    "np.concatenate([a,b], axis = 0)\n"
   ]
  },
  {
   "cell_type": "code",
   "execution_count": 53,
   "id": "d94ef554-9541-4e59-b66c-afdd5ca394ea",
   "metadata": {},
   "outputs": [
    {
     "data": {
      "text/plain": [
       "array([[0., 0., 0., 0.],\n",
       "       [0., 0., 0., 0.],\n",
       "       [0., 0., 0., 0.],\n",
       "       [0., 0., 0., 0.],\n",
       "       [1., 1., 1., 1.],\n",
       "       [1., 1., 1., 1.],\n",
       "       [1., 1., 1., 1.],\n",
       "       [1., 1., 1., 1.]])"
      ]
     },
     "execution_count": 53,
     "metadata": {},
     "output_type": "execute_result"
    }
   ],
   "source": [
    "np.vstack([a, b])"
   ]
  },
  {
   "cell_type": "code",
   "execution_count": 55,
   "id": "63f75599-6061-4a4e-8643-17abf082181f",
   "metadata": {},
   "outputs": [
    {
     "data": {
      "text/plain": [
       "array([[0., 0., 0., 0.],\n",
       "       [0., 0., 0., 0.],\n",
       "       [0., 0., 0., 0.],\n",
       "       [0., 0., 0., 0.],\n",
       "       [1., 1., 1., 1.],\n",
       "       [1., 1., 1., 1.],\n",
       "       [1., 1., 1., 1.],\n",
       "       [1., 1., 1., 1.]])"
      ]
     },
     "execution_count": 55,
     "metadata": {},
     "output_type": "execute_result"
    }
   ],
   "source": [
    "np.r_[a, b]"
   ]
  },
  {
   "cell_type": "code",
   "execution_count": 57,
   "id": "7f6a69a5-e350-45cd-a840-a043a3482610",
   "metadata": {},
   "outputs": [
    {
     "data": {
      "text/plain": [
       "array([[0., 0., 0., 0., 1., 1., 1., 1.],\n",
       "       [0., 0., 0., 0., 1., 1., 1., 1.],\n",
       "       [0., 0., 0., 0., 1., 1., 1., 1.],\n",
       "       [0., 0., 0., 0., 1., 1., 1., 1.]])"
      ]
     },
     "execution_count": 57,
     "metadata": {},
     "output_type": "execute_result"
    }
   ],
   "source": [
    "#column wise:\n",
    "np.concatenate([a, b], axis = 1)"
   ]
  },
  {
   "cell_type": "code",
   "execution_count": 59,
   "id": "55833176-54a5-4c5f-8d64-4e1a385c44b9",
   "metadata": {},
   "outputs": [
    {
     "data": {
      "text/plain": [
       "array([[0., 0., 0., 0., 1., 1., 1., 1.],\n",
       "       [0., 0., 0., 0., 1., 1., 1., 1.],\n",
       "       [0., 0., 0., 0., 1., 1., 1., 1.],\n",
       "       [0., 0., 0., 0., 1., 1., 1., 1.]])"
      ]
     },
     "execution_count": 59,
     "metadata": {},
     "output_type": "execute_result"
    }
   ],
   "source": [
    "np.hstack([a, b])"
   ]
  },
  {
   "cell_type": "code",
   "execution_count": 61,
   "id": "e2c02b6a-a3b6-4ebb-a922-2cf604114178",
   "metadata": {},
   "outputs": [
    {
     "data": {
      "text/plain": [
       "array([[0., 0., 0., 0., 1., 1., 1., 1.],\n",
       "       [0., 0., 0., 0., 1., 1., 1., 1.],\n",
       "       [0., 0., 0., 0., 1., 1., 1., 1.],\n",
       "       [0., 0., 0., 0., 1., 1., 1., 1.]])"
      ]
     },
     "execution_count": 61,
     "metadata": {},
     "output_type": "execute_result"
    }
   ],
   "source": [
    "np.c_[a, b]"
   ]
  },
  {
   "cell_type": "code",
   "execution_count": 63,
   "id": "5185dd61-41ed-402d-a8c0-8a31ca7833fa",
   "metadata": {},
   "outputs": [
    {
     "name": "stdout",
     "output_type": "stream",
     "text": [
      "[[0. 0. 0. 0. 1. 1. 1. 1.]\n",
      " [0. 0. 0. 0. 1. 1. 1. 1.]\n",
      " [0. 0. 0. 0. 1. 1. 1. 1.]\n",
      " [0. 0. 0. 0. 1. 1. 1. 1.]]\n"
     ]
    }
   ],
   "source": [
    "print(np.c_[a,b])"
   ]
  },
  {
   "cell_type": "code",
   "execution_count": 65,
   "id": "cc06644b-9591-42ab-be50-e1bbe16ea050",
   "metadata": {},
   "outputs": [
    {
     "data": {
      "text/plain": [
       "array([1, 2, 3, 0, 0, 4, 5, 6])"
      ]
     },
     "execution_count": 65,
     "metadata": {},
     "output_type": "execute_result"
    }
   ],
   "source": [
    "#can also use np.r_ to create more complex number sequences in 1d arrays:\n",
    "np.r_[[1, 2, 3], 0, 0, [4, 5, 6]]"
   ]
  },
  {
   "cell_type": "code",
   "execution_count": null,
   "id": "5806a087-709f-459b-b926-83a424b220c2",
   "metadata": {},
   "outputs": [],
   "source": []
  },
  {
   "cell_type": "code",
   "execution_count": 76,
   "id": "db47b3be-410b-4bd1-b618-d61de49afc68",
   "metadata": {},
   "outputs": [
    {
     "data": {
      "text/plain": [
       "array([[4, 4, 1, 1],\n",
       "       [2, 1, 1, 1],\n",
       "       [4, 5, 3, 1],\n",
       "       [2, 1, 1, 5],\n",
       "       [3, 4, 2, 5],\n",
       "       [4, 5, 3, 5],\n",
       "       [5, 1, 2, 4],\n",
       "       [5, 2, 3, 3]])"
      ]
     },
     "execution_count": 76,
     "metadata": {},
     "output_type": "execute_result"
    }
   ],
   "source": [
    "arr3 = np.random.randint(1, 6, size = [8,4])\n",
    "arr3"
   ]
  },
  {
   "cell_type": "code",
   "execution_count": 78,
   "id": "c203eca2-59cf-46df-aa08-e6fd6862621c",
   "metadata": {},
   "outputs": [
    {
     "data": {
      "text/plain": [
       "array([[2, 1, 1, 1],\n",
       "       [2, 1, 1, 1],\n",
       "       [3, 1, 1, 1],\n",
       "       [4, 2, 2, 3],\n",
       "       [4, 4, 2, 4],\n",
       "       [4, 4, 3, 5],\n",
       "       [5, 5, 3, 5],\n",
       "       [5, 5, 3, 5]])"
      ]
     },
     "execution_count": 78,
     "metadata": {},
     "output_type": "execute_result"
    }
   ],
   "source": [
    "np.sort(arr3, axis = 0)"
   ]
  },
  {
   "cell_type": "code",
   "execution_count": 82,
   "id": "45c21c57-54ef-4ac5-b5a3-5193ae40801a",
   "metadata": {},
   "outputs": [
    {
     "name": "stdout",
     "output_type": "stream",
     "text": [
      "[0 3 2 4 5 1]\n"
     ]
    }
   ],
   "source": [
    "x = np.array([1, 10, 5, 2, 8, 9])\n",
    "sort_index = np.argsort(x) #sort index\n",
    "print (sort_index)"
   ]
  },
  {
   "cell_type": "code",
   "execution_count": 84,
   "id": "95fbd6a9-12ff-4261-b7fe-929397d8dae7",
   "metadata": {},
   "outputs": [
    {
     "data": {
      "text/plain": [
       "array([ 1,  2,  5,  8,  9, 10])"
      ]
     },
     "execution_count": 84,
     "metadata": {},
     "output_type": "execute_result"
    }
   ],
   "source": [
    "x[sort_index]"
   ]
  },
  {
   "cell_type": "code",
   "execution_count": 86,
   "id": "22effe7f-c877-44f6-83ce-2c437628c799",
   "metadata": {},
   "outputs": [
    {
     "data": {
      "text/plain": [
       "array([[2, 1, 1, 1],\n",
       "       [2, 1, 1, 5],\n",
       "       [3, 4, 2, 5],\n",
       "       [4, 4, 1, 1],\n",
       "       [4, 5, 3, 1],\n",
       "       [4, 5, 3, 5],\n",
       "       [5, 1, 2, 4],\n",
       "       [5, 2, 3, 3]])"
      ]
     },
     "execution_count": 86,
     "metadata": {},
     "output_type": "execute_result"
    }
   ],
   "source": [
    "#Argsort the 1st column:\n",
    "sorted_index_1stcol = arr3[:, 0].argsort()\n",
    "#Sort array by 1st column without disturbing the integrity of row:\n",
    "arr3[sorted_index_1stcol]"
   ]
  },
  {
   "cell_type": "code",
   "execution_count": 88,
   "id": "34ac5ca8-e38c-4a49-a2e8-ff83453b37c3",
   "metadata": {},
   "outputs": [
    {
     "data": {
      "text/plain": [
       "array([[5, 2, 3, 3],\n",
       "       [5, 1, 2, 4],\n",
       "       [4, 5, 3, 5],\n",
       "       [4, 5, 3, 1],\n",
       "       [4, 4, 1, 1],\n",
       "       [3, 4, 2, 5],\n",
       "       [2, 1, 1, 5],\n",
       "       [2, 1, 1, 1]])"
      ]
     },
     "execution_count": 88,
     "metadata": {},
     "output_type": "execute_result"
    }
   ],
   "source": [
    "#Sort in decreasing order:\n",
    "arr3[sorted_index_1stcol[::-1]]"
   ]
  },
  {
   "cell_type": "code",
   "execution_count": 90,
   "id": "786c4514-711b-4aa4-90cf-5a446ac81b33",
   "metadata": {},
   "outputs": [
    {
     "data": {
      "text/plain": [
       "array([[2, 1, 1, 1],\n",
       "       [2, 1, 1, 5],\n",
       "       [3, 4, 2, 5],\n",
       "       [4, 4, 1, 1],\n",
       "       [4, 5, 3, 1],\n",
       "       [4, 5, 3, 5],\n",
       "       [5, 1, 2, 4],\n",
       "       [5, 2, 3, 3]])"
      ]
     },
     "execution_count": 90,
     "metadata": {},
     "output_type": "execute_result"
    }
   ],
   "source": [
    "#Sort a numpy based on 2 or more columns:\n",
    "#sort by col 0, then by col 1:\n",
    "lexsorted_index = np.lexsort((arr3[:, 1], arr3[:, 0]))\n",
    "arr3[lexsorted_index]"
   ]
  },
  {
   "cell_type": "code",
   "execution_count": 92,
   "id": "087c5cef-a0af-4380-9d1d-0f20a18d3556",
   "metadata": {},
   "outputs": [
    {
     "data": {
      "text/plain": [
       "numpy.datetime64('2024-08-11T23:28:30')"
      ]
     },
     "execution_count": 92,
     "metadata": {},
     "output_type": "execute_result"
    }
   ],
   "source": [
    "#working with dates:\n",
    "#Create a datetime64 object:\n",
    "date64 = np.datetime64('2024-08-11T23:28:30')\n",
    "date64"
   ]
  },
  {
   "cell_type": "code",
   "execution_count": 96,
   "id": "2579cb5f-2faf-4146-8650-c28187a97efb",
   "metadata": {},
   "outputs": [
    {
     "data": {
      "text/plain": [
       "numpy.datetime64('2024-08-11')"
      ]
     },
     "execution_count": 96,
     "metadata": {},
     "output_type": "execute_result"
    }
   ],
   "source": [
    "dt64 = np.datetime64(date64, 'D')\n",
    "dt64"
   ]
  },
  {
   "cell_type": "code",
   "execution_count": 100,
   "id": "45986a28-88c3-4952-8b0e-ca6a0f295f4e",
   "metadata": {},
   "outputs": [
    {
     "name": "stdout",
     "output_type": "stream",
     "text": [
      "Add 10 days:  2024-08-21\n",
      "Add 10 minutes:  2024-08-11T00:10\n",
      "Add 10 seconds:  2024-08-11T00:00:10\n",
      "Add 10 nanoseconds:  2024-08-11T00:00:00.000000010\n"
     ]
    }
   ],
   "source": [
    "#Create the timedeltas(individual units of time):\n",
    "ten_min = np.timedelta64(10, 'm') #10 min\n",
    "ten_sec = np.timedelta64(10, 's')\n",
    "tennanoseconds = np.timedelta64(10, 'ns')\n",
    "\n",
    "print(\"Add 10 days: \", dt64+10)\n",
    "print(\"Add 10 minutes: \", dt64+ten_min)\n",
    "print(\"Add 10 seconds: \", dt64+ten_sec)\n",
    "print(\"Add 10 nanoseconds: \", dt64+tennanoseconds)"
   ]
  },
  {
   "cell_type": "code",
   "execution_count": 102,
   "id": "52ba6ab4-835f-4645-8fb7-cdfad3e6fc6c",
   "metadata": {},
   "outputs": [
    {
     "data": {
      "text/plain": [
       "'2024-08-11'"
      ]
     },
     "execution_count": 102,
     "metadata": {},
     "output_type": "execute_result"
    }
   ],
   "source": [
    "#Convert np.datetime64 back to a string:\n",
    "np.datetime_as_string(dt64)"
   ]
  },
  {
   "cell_type": "code",
   "execution_count": 104,
   "id": "8ffeca16-0317-473a-bd72-31b9b993d44f",
   "metadata": {},
   "outputs": [
    {
     "name": "stdout",
     "output_type": "stream",
     "text": [
      "Date:  2024-08-11\n",
      "Is it a business day?  False\n",
      "Add 2 business days, rolling forward do nearest biz day:  2024-08-14\n",
      "Add 2 business days, rolling backward to nearest biz day:  2024-08-13\n"
     ]
    }
   ],
   "source": [
    "print (\"Date: \", dt64)\n",
    "print (\"Is it a business day? \", np.is_busday(dt64))\n",
    "print (\"Add 2 business days, rolling forward do nearest biz day: \", np.busday_offset(dt64, 2, roll = 'forward'))\n",
    "print (\"Add 2 business days, rolling backward to nearest biz day: \", np.busday_offset(dt64, 2, roll = 'backward'))\n",
    "       "
   ]
  },
  {
   "cell_type": "code",
   "execution_count": 106,
   "id": "882b6bb4-5f83-41f6-a16a-40b7ea9002f3",
   "metadata": {},
   "outputs": [
    {
     "name": "stdout",
     "output_type": "stream",
     "text": [
      "['2024-08-01' '2024-08-02' '2024-08-03' '2024-08-04' '2024-08-05'\n",
      " '2024-08-06' '2024-08-07' '2024-08-08' '2024-08-09']\n"
     ]
    },
    {
     "data": {
      "text/plain": [
       "array([ True,  True, False, False,  True,  True,  True,  True,  True])"
      ]
     },
     "execution_count": 106,
     "metadata": {},
     "output_type": "execute_result"
    }
   ],
   "source": [
    "#Create a date sequence:\n",
    "dates = np.arange(np.datetime64('2024-08-01'), np.datetime64('2024-08-10'))\n",
    "print(dates)\n",
    "\n",
    "np.is_busday(dates)"
   ]
  },
  {
   "cell_type": "code",
   "execution_count": 108,
   "id": "17d0ff23-b09a-40c2-a419-4c7640b8530b",
   "metadata": {},
   "outputs": [
    {
     "data": {
      "text/plain": [
       "datetime.date(2024, 8, 11)"
      ]
     },
     "execution_count": 108,
     "metadata": {},
     "output_type": "execute_result"
    }
   ],
   "source": [
    "#Convert numpy.datetime64 to datetime.datetime object:\n",
    "import datetime\n",
    "dt = dt64.tolist()\n",
    "dt"
   ]
  },
  {
   "cell_type": "code",
   "execution_count": 112,
   "id": "146f004c-786d-49fd-b61b-8ce457ca6bbe",
   "metadata": {},
   "outputs": [
    {
     "name": "stdout",
     "output_type": "stream",
     "text": [
      "Year:  2024\n",
      "Day of month:  11\n",
      "Month of year:  8\n",
      "Day of week:  6\n"
     ]
    }
   ],
   "source": [
    "print (\"Year: \", dt.year)\n",
    "print (\"Day of month: \", dt.day)\n",
    "print (\"Month of year: \", dt.month)\n",
    "print (\"Day of week: \", dt.weekday()) #Sunday"
   ]
  },
  {
   "cell_type": "code",
   "execution_count": 114,
   "id": "384282a5-2f3f-49b4-81e1-54556463b550",
   "metadata": {},
   "outputs": [
    {
     "name": "stdout",
     "output_type": "stream",
     "text": [
      "x = 10 returns  5.0\n",
      "x = 11 returns  121\n"
     ]
    }
   ],
   "source": [
    "#Advanced numpy functions:\n",
    "\n",
    "#vectorize:\n",
    "#Define a scalar function:\n",
    "def foo(x):\n",
    "    if x % 2 == 1:\n",
    "        return x**2\n",
    "    else:\n",
    "        return x/2\n",
    "\n",
    "#On a scalar:\n",
    "print(\"x = 10 returns \", foo(10))\n",
    "print(\"x = 11 returns \", foo(11))"
   ]
  },
  {
   "cell_type": "code",
   "execution_count": 116,
   "id": "303788c1-1540-43b6-b8b9-a20b99aee5e4",
   "metadata": {},
   "outputs": [
    {
     "name": "stdout",
     "output_type": "stream",
     "text": [
      "x = [10, 11, 12] returns  [  5. 121.   6.]\n",
      "x = [[10, 11, 12], [1, 2, 3]] returns  [[  5. 121.   6.]\n",
      " [  1.   1.   9.]]\n"
     ]
    }
   ],
   "source": [
    "#vectorize foo, make it work on vectors:\n",
    "foo_v = np.vectorize(foo, otypes = [float])\n",
    "print(\"x = [10, 11, 12] returns \", foo_v([10, 11, 12]))\n",
    "print(\"x = [[10, 11, 12], [1, 2, 3]] returns \", foo_v([[10, 11, 12], [1, 2, 3]] ))"
   ]
  },
  {
   "cell_type": "code",
   "execution_count": 118,
   "id": "7f8a2720-5a22-4493-916c-f903e5d28a30",
   "metadata": {},
   "outputs": [
    {
     "data": {
      "text/plain": [
       "array([[9, 9, 4, 8, 8, 1, 5, 3, 6, 3],\n",
       "       [3, 3, 2, 1, 9, 5, 1, 7, 3, 5],\n",
       "       [2, 6, 4, 5, 5, 4, 8, 2, 2, 8],\n",
       "       [8, 1, 3, 4, 3, 6, 9, 2, 1, 8]])"
      ]
     },
     "execution_count": 118,
     "metadata": {},
     "output_type": "execute_result"
    }
   ],
   "source": [
    "#Apply along axis - apply a function column wise or row wise:\n",
    "#Create a 2D array:\n",
    "np.random.seed(100)\n",
    "arr_x = np.random.randint(1, 10, size = [4, 10])\n",
    "arr_x"
   ]
  },
  {
   "cell_type": "code",
   "execution_count": 122,
   "id": "8ed84750-f426-4ad6-bc90-f374927cc982",
   "metadata": {},
   "outputs": [
    {
     "name": "stdout",
     "output_type": "stream",
     "text": [
      "Row wise:  [8 8 6 8]\n",
      "Column wise:  [7 8 2 7 6 5 8 5 5 5]\n"
     ]
    }
   ],
   "source": [
    "#tim su khac nhau giua gia tri max va min trong 1 hang/cot\n",
    "def max_minus_min(x):\n",
    "    return np.max(x) - np.min(x)\n",
    "#Apply along the rows:\n",
    "print(\"Row wise: \", np.apply_along_axis(max_minus_min, 1, arr = arr_x))\n",
    "\n",
    "#Apply along the columns:\n",
    "print(\"Column wise: \", np.apply_along_axis(max_minus_min, 0, arr = arr_x))\n"
   ]
  },
  {
   "cell_type": "code",
   "execution_count": 124,
   "id": "cbca89fa-5d34-40e1-a5d5-eddc8a94a78d",
   "metadata": {},
   "outputs": [
    {
     "name": "stdout",
     "output_type": "stream",
     "text": [
      "Where should 5 be inserted?:  5\n",
      "Where should 5 be inserted (right)?:  6\n"
     ]
    }
   ],
   "source": [
    "#Searchsorted: find the location to insert so the array will remain sorted:\n",
    "x = np.arange(10)\n",
    "print (\"Where should 5 be inserted?: \", np.searchsorted(x, 5))\n",
    "print (\"Where should 5 be inserted (right)?: \", np.searchsorted(x, 5, side = 'right'))"
   ]
  },
  {
   "cell_type": "code",
   "execution_count": 126,
   "id": "e1ddb4aa-9e14-4c95-b912-f32a0018e8ff",
   "metadata": {},
   "outputs": [
    {
     "data": {
      "text/plain": [
       "array([0, 1, 2, 3, 4, 5, 6, 7, 8, 9])"
      ]
     },
     "execution_count": 126,
     "metadata": {},
     "output_type": "execute_result"
    }
   ],
   "source": [
    "x"
   ]
  },
  {
   "cell_type": "code",
   "execution_count": 128,
   "id": "31a0d980-f527-4913-a64e-08d0900082ea",
   "metadata": {},
   "outputs": [
    {
     "data": {
      "text/plain": [
       "range(0, 10000)"
      ]
     },
     "execution_count": 128,
     "metadata": {},
     "output_type": "execute_result"
    }
   ],
   "source": [
    "lst = range(10000)\n",
    "lst"
   ]
  },
  {
   "cell_type": "code",
   "execution_count": 130,
   "id": "6ff9d653-2c61-4cf9-8d7a-37d89f24d97a",
   "metadata": {},
   "outputs": [
    {
     "name": "stdout",
     "output_type": "stream",
     "text": [
      "37 μs ± 803 ns per loop (mean ± std. dev. of 7 runs, 10,000 loops each)\n",
      "462 μs ± 13.8 μs per loop (mean ± std. dev. of 7 runs, 1,000 loops each)\n"
     ]
    }
   ],
   "source": [
    "probs = np.random.random(10000); probs /= probs.sum()\n",
    "%timeit lst[np.searchsorted(probs.cumsum(), np.random.random())]\n",
    "%timeit np.random.choice(lst, p=probs)"
   ]
  },
  {
   "cell_type": "code",
   "execution_count": 132,
   "id": "2cce5b97-2883-400a-a33a-33ce6b54603e",
   "metadata": {},
   "outputs": [
    {
     "name": "stdout",
     "output_type": "stream",
     "text": [
      "Original array:  [0 1 2 3 4]\n",
      "x_col's shape:  (5, 1)\n",
      "[[0]\n",
      " [1]\n",
      " [2]\n",
      " [3]\n",
      " [4]]\n"
     ]
    }
   ],
   "source": [
    "#Add a new axis to a numpy array:\n",
    "x = np.arange(5)\n",
    "print (\"Original array: \", x)\n",
    "\n",
    "#Introduce a new column axis:\n",
    "x_col = x[:, np.newaxis]\n",
    "print(\"x_col's shape: \", x_col.shape)\n",
    "print(x_col)\n"
   ]
  },
  {
   "cell_type": "code",
   "execution_count": 134,
   "id": "76eb96a8-5a9d-4c11-a455-1f0269b1d94e",
   "metadata": {},
   "outputs": [
    {
     "name": "stdout",
     "output_type": "stream",
     "text": [
      "x_row's shape:  (1, 5)\n",
      "[[0 1 2 3 4]]\n"
     ]
    }
   ],
   "source": [
    "#Introduce a new row axis:\n",
    "x_row = x[np.newaxis, :]\n",
    "print(\"x_row's shape: \", x_row.shape)\n",
    "print(x_row)"
   ]
  },
  {
   "cell_type": "code",
   "execution_count": 142,
   "id": "20156f62-2848-43c9-83c5-8bc03db3ce01",
   "metadata": {},
   "outputs": [
    {
     "data": {
      "text/plain": [
       "array([1, 1, 1, 2, 2, 2, 3, 3, 3, 4])"
      ]
     },
     "execution_count": 142,
     "metadata": {},
     "output_type": "execute_result"
    }
   ],
   "source": [
    "#Digitize:\n",
    "#Create the array and bins:\n",
    "import numpy as np\n",
    "x = np.arange(10)\n",
    "\n",
    "bins = np.array([0, 3, 6, 9])\n",
    "\n",
    "#Get bin allotments:\n",
    "np.digitize(x, bins)\n"
   ]
  },
  {
   "cell_type": "code",
   "execution_count": 144,
   "id": "00abb823-b29f-4b6f-940d-f30dbc47739e",
   "metadata": {},
   "outputs": [
    {
     "data": {
      "text/plain": [
       "array([0, 1, 2, 3, 4, 5, 6, 7, 8, 9])"
      ]
     },
     "execution_count": 144,
     "metadata": {},
     "output_type": "execute_result"
    }
   ],
   "source": []
  },
  {
   "cell_type": "code",
   "execution_count": 146,
   "id": "e39730c1-c04b-416a-8b40-f4d52a8f5138",
   "metadata": {},
   "outputs": [
    {
     "data": {
      "text/plain": [
       "array([3, 3, 3, 3, 4, 5, 6, 7, 8, 8])"
      ]
     },
     "execution_count": 146,
     "metadata": {},
     "output_type": "execute_result"
    }
   ],
   "source": [
    "#Clip:\n",
    "#Cap all elements of x to lie between 3 and 8:\n",
    "np.clip(x, 3, 8)"
   ]
  },
  {
   "cell_type": "code",
   "execution_count": 148,
   "id": "3deeecf3-c124-406a-9263-31c4e0b8b4bd",
   "metadata": {},
   "outputs": [
    {
     "data": {
      "text/plain": [
       "array([5, 5, 5, 5, 5, 5, 6, 7, 8, 8])"
      ]
     },
     "execution_count": 148,
     "metadata": {},
     "output_type": "execute_result"
    }
   ],
   "source": [
    "np.clip(x, 5, 8)"
   ]
  },
  {
   "cell_type": "code",
   "execution_count": 152,
   "id": "678fc915-33a0-4ad0-b6b9-506f2703934a",
   "metadata": {},
   "outputs": [
    {
     "data": {
      "text/plain": [
       "array([0, 1, 4, 0, 2, 1, 3])"
      ]
     },
     "execution_count": 152,
     "metadata": {},
     "output_type": "execute_result"
    }
   ],
   "source": [
    "#Histogram and bincount:\n",
    "\n",
    "#Bincount example:\n",
    "x = np.array([1, 2, 2, 2, 2, 4, 4, 5, 6, 6, 6]) #doesnt need to be sorted\n",
    "np.bincount(x) #0 occurs 0 times, 1->1 times...\n"
   ]
  },
  {
   "cell_type": "code",
   "execution_count": 158,
   "id": "a9dbe656-5660-46c0-a1d6-807492512eb8",
   "metadata": {},
   "outputs": [
    {
     "name": "stdout",
     "output_type": "stream",
     "text": [
      "Counts:  [1 4 3 3]\n",
      "Bins:  [0 2 4 6 8]\n"
     ]
    }
   ],
   "source": [
    "#Histogram example:\n",
    "counts, bins = np.histogram(x, [0, 2, 4, 6, 8])\n",
    "print (\"Counts: \", counts)\n",
    "print (\"Bins: \", bins)"
   ]
  },
  {
   "cell_type": "code",
   "execution_count": null,
   "id": "2bca7dcc-e49c-4a11-a3a6-08cc38951da8",
   "metadata": {},
   "outputs": [],
   "source": []
  }
 ],
 "metadata": {
  "kernelspec": {
   "display_name": "Python 3 (ipykernel)",
   "language": "python",
   "name": "python3"
  },
  "language_info": {
   "codemirror_mode": {
    "name": "ipython",
    "version": 3
   },
   "file_extension": ".py",
   "mimetype": "text/x-python",
   "name": "python",
   "nbconvert_exporter": "python",
   "pygments_lexer": "ipython3",
   "version": "3.12.4"
  }
 },
 "nbformat": 4,
 "nbformat_minor": 5
}
