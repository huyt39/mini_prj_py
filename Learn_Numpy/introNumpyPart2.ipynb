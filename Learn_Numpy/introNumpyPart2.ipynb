{
 "cells": [
  {
   "cell_type": "code",
   "execution_count": 1,
   "id": "0f73b611-84c2-484f-9e41-9fb73dc1fb27",
   "metadata": {},
   "outputs": [
    {
     "name": "stdout",
     "output_type": "stream",
     "text": [
      "Array:  [8 8 3 7 7 0 4 2 5 2]\n",
      "Positions where value > 5:  (array([0, 1, 3, 4]),)\n"
     ]
    }
   ],
   "source": [
    "import numpy as np\n",
    "arr_rand = np.array([8, 8, 3, 7, 7, 0, 4, 2, 5, 2])\n",
    "print (\"Array: \", arr_rand)\n",
    "\n",
    "index_gt5 = np.where(arr_rand > 5)\n",
    "print (\"Positions where value > 5: \", index_gt5)"
   ]
  },
  {
   "cell_type": "code",
   "execution_count": 3,
   "id": "049ba190-b13c-4683-af7d-d1ebb128182d",
   "metadata": {},
   "outputs": [
    {
     "data": {
      "text/plain": [
       "array([[8, 8, 7, 7]])"
      ]
     },
     "execution_count": 3,
     "metadata": {},
     "output_type": "execute_result"
    }
   ],
   "source": [
    "arr_rand.take(index_gt5)"
   ]
  },
  {
   "cell_type": "code",
   "execution_count": 5,
   "id": "67c4eaa5-a480-46c8-aebd-4f9d8496ce46",
   "metadata": {},
   "outputs": [
    {
     "data": {
      "text/plain": [
       "array(['gt5', 'gt5', 'le5', 'gt5', 'gt5', 'le5', 'le5', 'le5', 'le5',\n",
       "       'le5'], dtype='<U3')"
      ]
     },
     "execution_count": 5,
     "metadata": {},
     "output_type": "execute_result"
    }
   ],
   "source": [
    "np.where(arr_rand > 5, 'gt5', 'le5')"
   ]
  },
  {
   "cell_type": "code",
   "execution_count": 7,
   "id": "5c9d4bcf-be2b-4c2d-b904-04d8ac043771",
   "metadata": {},
   "outputs": [
    {
     "name": "stdout",
     "output_type": "stream",
     "text": [
      "Position of max value:  0\n",
      "Position of min value:  5\n"
     ]
    }
   ],
   "source": [
    "print (\"Position of max value: \", np.argmax(arr_rand))\n",
    "print (\"Position of min value: \", np.argmin(arr_rand))"
   ]
  },
  {
   "cell_type": "code",
   "execution_count": null,
   "id": "b0fb9140-a50f-439c-95f6-60f325987ab7",
   "metadata": {},
   "outputs": [],
   "source": []
  }
 ],
 "metadata": {
  "kernelspec": {
   "display_name": "Python 3 (ipykernel)",
   "language": "python",
   "name": "python3"
  },
  "language_info": {
   "codemirror_mode": {
    "name": "ipython",
    "version": 3
   },
   "file_extension": ".py",
   "mimetype": "text/x-python",
   "name": "python",
   "nbconvert_exporter": "python",
   "pygments_lexer": "ipython3",
   "version": "3.12.4"
  }
 },
 "nbformat": 4,
 "nbformat_minor": 5
}
