{
 "cells": [
  {
   "cell_type": "code",
   "execution_count": 1,
   "id": "0f73b611-84c2-484f-9e41-9fb73dc1fb27",
   "metadata": {},
   "outputs": [
    {
     "name": "stdout",
     "output_type": "stream",
     "text": [
      "Array:  [8 8 3 7 7 0 4 2 5 2]\n",
      "Positions where value > 5:  (array([0, 1, 3, 4]),)\n"
     ]
    }
   ],
   "source": [
    "import numpy as np\n",
    "arr_rand = np.array([8, 8, 3, 7, 7, 0, 4, 2, 5, 2])\n",
    "print (\"Array: \", arr_rand)\n",
    "\n",
    "index_gt5 = np.where(arr_rand > 5)\n",
    "print (\"Positions where value > 5: \", index_gt5)"
   ]
  },
  {
   "cell_type": "code",
   "execution_count": 3,
   "id": "049ba190-b13c-4683-af7d-d1ebb128182d",
   "metadata": {},
   "outputs": [
    {
     "data": {
      "text/plain": [
       "array([[8, 8, 7, 7]])"
      ]
     },
     "execution_count": 3,
     "metadata": {},
     "output_type": "execute_result"
    }
   ],
   "source": [
    "arr_rand.take(index_gt5)"
   ]
  },
  {
   "cell_type": "code",
   "execution_count": 5,
   "id": "67c4eaa5-a480-46c8-aebd-4f9d8496ce46",
   "metadata": {},
   "outputs": [
    {
     "data": {
      "text/plain": [
       "array(['gt5', 'gt5', 'le5', 'gt5', 'gt5', 'le5', 'le5', 'le5', 'le5',\n",
       "       'le5'], dtype='<U3')"
      ]
     },
     "execution_count": 5,
     "metadata": {},
     "output_type": "execute_result"
    }
   ],
   "source": [
    "np.where(arr_rand > 5, 'gt5', 'le5')"
   ]
  },
  {
   "cell_type": "code",
   "execution_count": 7,
   "id": "5c9d4bcf-be2b-4c2d-b904-04d8ac043771",
   "metadata": {},
   "outputs": [
    {
     "name": "stdout",
     "output_type": "stream",
     "text": [
      "Position of max value:  0\n",
      "Position of min value:  5\n"
     ]
    }
   ],
   "source": [
    "print (\"Position of max value: \", np.argmax(arr_rand))\n",
    "print (\"Position of min value: \", np.argmin(arr_rand))"
   ]
  },
  {
   "cell_type": "code",
   "execution_count": 9,
   "id": "b0fb9140-a50f-439c-95f6-60f325987ab7",
   "metadata": {},
   "outputs": [
    {
     "data": {
      "text/plain": [
       "array([[  18. ,    8. ,  307. ,  130. , 3504. ,   12. ,   70. ,    1. ,\n",
       "        -999. ],\n",
       "       [  15. ,    8. ,  350. ,  165. , 3693. ,   11.5,   70. ,    1. ,\n",
       "        -999. ],\n",
       "       [  18. ,    8. ,  318. ,  150. , 3436. ,   11. ,   70. ,    1. ,\n",
       "        -999. ]])"
      ]
     },
     "execution_count": 9,
     "metadata": {},
     "output_type": "execute_result"
    }
   ],
   "source": [
    "#Turn off scientific notation:\n",
    "np.set_printoptions(suppress = True)\n",
    "#import data from csv file:\n",
    "path = 'https://raw.githubusercontent.com/selva86/datasets/master/Auto.csv'\n",
    "data = np.genfromtxt(path, delimiter=',', skip_header=1, filling_values=-999, dtype='float')\n",
    "data[:3]  # see first 3 rows"
   ]
  },
  {
   "cell_type": "code",
   "execution_count": 15,
   "id": "e08cadeb-523a-44b4-8559-208580e0d3e8",
   "metadata": {},
   "outputs": [
    {
     "name": "stderr",
     "output_type": "stream",
     "text": [
      "/var/folders/05/310yv1ls3hs58pczf9v97xvr0000gn/T/ipykernel_8288/3583732618.py:2: VisibleDeprecationWarning: Reading unicode strings without specifying the encoding argument is deprecated. Set the encoding, use None for the system default.\n",
      "  data2 = np.genfromtxt(path, delimiter=',', skip_header=1, dtype=None)\n"
     ]
    },
    {
     "data": {
      "text/plain": [
       "array([(18., 8, 307., 130, 3504, 12. , 70, 1, b'\"chevrolet chevelle malibu\"'),\n",
       "       (15., 8, 350., 165, 3693, 11.5, 70, 1, b'\"buick skylark 320\"'),\n",
       "       (18., 8, 318., 150, 3436, 11. , 70, 1, b'\"plymouth satellite\"')],\n",
       "      dtype=[('f0', '<f8'), ('f1', '<i8'), ('f2', '<f8'), ('f3', '<i8'), ('f4', '<i8'), ('f5', '<f8'), ('f6', '<i8'), ('f7', '<i8'), ('f8', 'S38')])"
      ]
     },
     "execution_count": 15,
     "metadata": {},
     "output_type": "execute_result"
    }
   ],
   "source": [
    "#Handle datasets that has both numbers and text columns:\n",
    "data2 = np.genfromtxt(path, delimiter=',', skip_header=1, dtype=None)\n",
    "data2[:3]"
   ]
  },
  {
   "cell_type": "code",
   "execution_count": 19,
   "id": "8c7c84a4-48d0-4894-b51a-3c7e3b790fb1",
   "metadata": {},
   "outputs": [],
   "source": [
    "np.savetxt(\"out.csv\", data, delimiter = ',') #save the array as a csv file\n"
   ]
  },
  {
   "cell_type": "code",
   "execution_count": 37,
   "id": "326078f1-a646-4d82-b74c-17ad9e8d7121",
   "metadata": {},
   "outputs": [],
   "source": [
    "#save and load numpy objects:\n",
    "#save single numpy array object as .npy file:\n",
    "arr2d = np.array([[1, 2, 3], [4, 5, 6], [7, 8, 9]])\n",
    "arr2d_f = np.arange(10)\n",
    "arr2d_b = np.arange(10)\n",
    "np.save('myarray.npy', arr2d)\n",
    "#save multiple numpy arrays as .npz file:\n",
    "np.savez('array.npz', arr2d_f, arr2d_b)\n"
   ]
  },
  {
   "cell_type": "code",
   "execution_count": 39,
   "id": "c552044b-1c95-4105-b7c0-e8d9067dd713",
   "metadata": {},
   "outputs": [
    {
     "name": "stdout",
     "output_type": "stream",
     "text": [
      "[[1 2 3]\n",
      " [4 5 6]\n",
      " [7 8 9]]\n"
     ]
    }
   ],
   "source": [
    "#load back the .npy file:\n",
    "a = np.load('myarray.npy')\n",
    "print(a)"
   ]
  },
  {
   "cell_type": "code",
   "execution_count": 43,
   "id": "0bb8b905-b1c8-461c-958f-fc70d9328e68",
   "metadata": {},
   "outputs": [
    {
     "name": "stdout",
     "output_type": "stream",
     "text": [
      "['arr_0', 'arr_1']\n"
     ]
    },
    {
     "data": {
      "text/plain": [
       "array([0, 1, 2, 3, 4, 5, 6, 7, 8, 9])"
      ]
     },
     "execution_count": 43,
     "metadata": {},
     "output_type": "execute_result"
    }
   ],
   "source": [
    "#load back the .npz file:\n",
    "b = np.load('array.npz')\n",
    "print(b.files)\n",
    "b['arr_0']"
   ]
  },
  {
   "cell_type": "code",
   "execution_count": 45,
   "id": "6ca85841-aa91-482b-aec0-1992489f60ea",
   "metadata": {},
   "outputs": [
    {
     "data": {
      "text/plain": [
       "array([[0., 0., 0., 0.],\n",
       "       [0., 0., 0., 0.],\n",
       "       [0., 0., 0., 0.],\n",
       "       [0., 0., 0., 0.]])"
      ]
     },
     "execution_count": 45,
     "metadata": {},
     "output_type": "execute_result"
    }
   ],
   "source": [
    "#How to concatenate two numpy arrays columnwise and row wise:\n",
    "#3 ways: np.concatenate, np.vstack and np.hstack, np.r_ and np.c_\n",
    "#All three methods provide the same output. One key difference to notice is unlike the other 2 methods, both np.r_ and np.c_ use square brackets to stack arrays\n",
    "a = np.zeros([4, 4])\n",
    "b = np.ones([4, 4])\n",
    "a"
   ]
  },
  {
   "cell_type": "code",
   "execution_count": 47,
   "id": "4a8388c9-5412-4e76-925d-3a14598841d4",
   "metadata": {},
   "outputs": [
    {
     "data": {
      "text/plain": [
       "array([[1., 1., 1., 1.],\n",
       "       [1., 1., 1., 1.],\n",
       "       [1., 1., 1., 1.],\n",
       "       [1., 1., 1., 1.]])"
      ]
     },
     "execution_count": 47,
     "metadata": {},
     "output_type": "execute_result"
    }
   ],
   "source": [
    "b"
   ]
  },
  {
   "cell_type": "code",
   "execution_count": 49,
   "id": "5892f271-9c62-46bd-b849-92ea5c99e8e7",
   "metadata": {},
   "outputs": [
    {
     "name": "stdout",
     "output_type": "stream",
     "text": [
      "[[0. 0. 0. 0.]\n",
      " [0. 0. 0. 0.]\n",
      " [0. 0. 0. 0.]\n",
      " [0. 0. 0. 0.]]\n",
      "[[1. 1. 1. 1.]\n",
      " [1. 1. 1. 1.]\n",
      " [1. 1. 1. 1.]\n",
      " [1. 1. 1. 1.]]\n"
     ]
    }
   ],
   "source": [
    "print(a)\n",
    "print(b)"
   ]
  },
  {
   "cell_type": "code",
   "execution_count": 51,
   "id": "16966b40-ac32-4d1d-82b8-07394e3eb776",
   "metadata": {},
   "outputs": [
    {
     "data": {
      "text/plain": [
       "array([[0., 0., 0., 0.],\n",
       "       [0., 0., 0., 0.],\n",
       "       [0., 0., 0., 0.],\n",
       "       [0., 0., 0., 0.],\n",
       "       [1., 1., 1., 1.],\n",
       "       [1., 1., 1., 1.],\n",
       "       [1., 1., 1., 1.],\n",
       "       [1., 1., 1., 1.]])"
      ]
     },
     "execution_count": 51,
     "metadata": {},
     "output_type": "execute_result"
    }
   ],
   "source": [
    "#Vertical stack equivalents: (row wise)\n",
    "np.concatenate([a,b], axis = 0)\n"
   ]
  },
  {
   "cell_type": "code",
   "execution_count": 53,
   "id": "d94ef554-9541-4e59-b66c-afdd5ca394ea",
   "metadata": {},
   "outputs": [
    {
     "data": {
      "text/plain": [
       "array([[0., 0., 0., 0.],\n",
       "       [0., 0., 0., 0.],\n",
       "       [0., 0., 0., 0.],\n",
       "       [0., 0., 0., 0.],\n",
       "       [1., 1., 1., 1.],\n",
       "       [1., 1., 1., 1.],\n",
       "       [1., 1., 1., 1.],\n",
       "       [1., 1., 1., 1.]])"
      ]
     },
     "execution_count": 53,
     "metadata": {},
     "output_type": "execute_result"
    }
   ],
   "source": [
    "np.vstack([a, b])"
   ]
  },
  {
   "cell_type": "code",
   "execution_count": 55,
   "id": "63f75599-6061-4a4e-8643-17abf082181f",
   "metadata": {},
   "outputs": [
    {
     "data": {
      "text/plain": [
       "array([[0., 0., 0., 0.],\n",
       "       [0., 0., 0., 0.],\n",
       "       [0., 0., 0., 0.],\n",
       "       [0., 0., 0., 0.],\n",
       "       [1., 1., 1., 1.],\n",
       "       [1., 1., 1., 1.],\n",
       "       [1., 1., 1., 1.],\n",
       "       [1., 1., 1., 1.]])"
      ]
     },
     "execution_count": 55,
     "metadata": {},
     "output_type": "execute_result"
    }
   ],
   "source": [
    "np.r_[a, b]"
   ]
  },
  {
   "cell_type": "code",
   "execution_count": 57,
   "id": "7f6a69a5-e350-45cd-a840-a043a3482610",
   "metadata": {},
   "outputs": [
    {
     "data": {
      "text/plain": [
       "array([[0., 0., 0., 0., 1., 1., 1., 1.],\n",
       "       [0., 0., 0., 0., 1., 1., 1., 1.],\n",
       "       [0., 0., 0., 0., 1., 1., 1., 1.],\n",
       "       [0., 0., 0., 0., 1., 1., 1., 1.]])"
      ]
     },
     "execution_count": 57,
     "metadata": {},
     "output_type": "execute_result"
    }
   ],
   "source": [
    "#column wise:\n",
    "np.concatenate([a, b], axis = 1)"
   ]
  },
  {
   "cell_type": "code",
   "execution_count": 59,
   "id": "55833176-54a5-4c5f-8d64-4e1a385c44b9",
   "metadata": {},
   "outputs": [
    {
     "data": {
      "text/plain": [
       "array([[0., 0., 0., 0., 1., 1., 1., 1.],\n",
       "       [0., 0., 0., 0., 1., 1., 1., 1.],\n",
       "       [0., 0., 0., 0., 1., 1., 1., 1.],\n",
       "       [0., 0., 0., 0., 1., 1., 1., 1.]])"
      ]
     },
     "execution_count": 59,
     "metadata": {},
     "output_type": "execute_result"
    }
   ],
   "source": [
    "np.hstack([a, b])"
   ]
  },
  {
   "cell_type": "code",
   "execution_count": 61,
   "id": "e2c02b6a-a3b6-4ebb-a922-2cf604114178",
   "metadata": {},
   "outputs": [
    {
     "data": {
      "text/plain": [
       "array([[0., 0., 0., 0., 1., 1., 1., 1.],\n",
       "       [0., 0., 0., 0., 1., 1., 1., 1.],\n",
       "       [0., 0., 0., 0., 1., 1., 1., 1.],\n",
       "       [0., 0., 0., 0., 1., 1., 1., 1.]])"
      ]
     },
     "execution_count": 61,
     "metadata": {},
     "output_type": "execute_result"
    }
   ],
   "source": [
    "np.c_[a, b]"
   ]
  },
  {
   "cell_type": "code",
   "execution_count": 63,
   "id": "5185dd61-41ed-402d-a8c0-8a31ca7833fa",
   "metadata": {},
   "outputs": [
    {
     "name": "stdout",
     "output_type": "stream",
     "text": [
      "[[0. 0. 0. 0. 1. 1. 1. 1.]\n",
      " [0. 0. 0. 0. 1. 1. 1. 1.]\n",
      " [0. 0. 0. 0. 1. 1. 1. 1.]\n",
      " [0. 0. 0. 0. 1. 1. 1. 1.]]\n"
     ]
    }
   ],
   "source": [
    "print(np.c_[a,b])"
   ]
  },
  {
   "cell_type": "code",
   "execution_count": 65,
   "id": "cc06644b-9591-42ab-be50-e1bbe16ea050",
   "metadata": {},
   "outputs": [
    {
     "data": {
      "text/plain": [
       "array([1, 2, 3, 0, 0, 4, 5, 6])"
      ]
     },
     "execution_count": 65,
     "metadata": {},
     "output_type": "execute_result"
    }
   ],
   "source": [
    "#can also use np.r_ to create more complex number sequences in 1d arrays:\n",
    "np.r_[[1, 2, 3], 0, 0, [4, 5, 6]]"
   ]
  },
  {
   "cell_type": "code",
   "execution_count": null,
   "id": "5806a087-709f-459b-b926-83a424b220c2",
   "metadata": {},
   "outputs": [],
   "source": []
  },
  {
   "cell_type": "code",
   "execution_count": 76,
   "id": "db47b3be-410b-4bd1-b618-d61de49afc68",
   "metadata": {},
   "outputs": [
    {
     "data": {
      "text/plain": [
       "array([[4, 4, 1, 1],\n",
       "       [2, 1, 1, 1],\n",
       "       [4, 5, 3, 1],\n",
       "       [2, 1, 1, 5],\n",
       "       [3, 4, 2, 5],\n",
       "       [4, 5, 3, 5],\n",
       "       [5, 1, 2, 4],\n",
       "       [5, 2, 3, 3]])"
      ]
     },
     "execution_count": 76,
     "metadata": {},
     "output_type": "execute_result"
    }
   ],
   "source": [
    "arr3 = np.random.randint(1, 6, size = [8,4])\n",
    "arr3"
   ]
  },
  {
   "cell_type": "code",
   "execution_count": 78,
   "id": "c203eca2-59cf-46df-aa08-e6fd6862621c",
   "metadata": {},
   "outputs": [
    {
     "data": {
      "text/plain": [
       "array([[2, 1, 1, 1],\n",
       "       [2, 1, 1, 1],\n",
       "       [3, 1, 1, 1],\n",
       "       [4, 2, 2, 3],\n",
       "       [4, 4, 2, 4],\n",
       "       [4, 4, 3, 5],\n",
       "       [5, 5, 3, 5],\n",
       "       [5, 5, 3, 5]])"
      ]
     },
     "execution_count": 78,
     "metadata": {},
     "output_type": "execute_result"
    }
   ],
   "source": [
    "np.sort(arr3, axis = 0)"
   ]
  },
  {
   "cell_type": "code",
   "execution_count": 82,
   "id": "45c21c57-54ef-4ac5-b5a3-5193ae40801a",
   "metadata": {},
   "outputs": [
    {
     "name": "stdout",
     "output_type": "stream",
     "text": [
      "[0 3 2 4 5 1]\n"
     ]
    }
   ],
   "source": [
    "x = np.array([1, 10, 5, 2, 8, 9])\n",
    "sort_index = np.argsort(x) #sort index\n",
    "print (sort_index)"
   ]
  },
  {
   "cell_type": "code",
   "execution_count": 84,
   "id": "95fbd6a9-12ff-4261-b7fe-929397d8dae7",
   "metadata": {},
   "outputs": [
    {
     "data": {
      "text/plain": [
       "array([ 1,  2,  5,  8,  9, 10])"
      ]
     },
     "execution_count": 84,
     "metadata": {},
     "output_type": "execute_result"
    }
   ],
   "source": [
    "x[sort_index]"
   ]
  },
  {
   "cell_type": "code",
   "execution_count": 86,
   "id": "22effe7f-c877-44f6-83ce-2c437628c799",
   "metadata": {},
   "outputs": [
    {
     "data": {
      "text/plain": [
       "array([[2, 1, 1, 1],\n",
       "       [2, 1, 1, 5],\n",
       "       [3, 4, 2, 5],\n",
       "       [4, 4, 1, 1],\n",
       "       [4, 5, 3, 1],\n",
       "       [4, 5, 3, 5],\n",
       "       [5, 1, 2, 4],\n",
       "       [5, 2, 3, 3]])"
      ]
     },
     "execution_count": 86,
     "metadata": {},
     "output_type": "execute_result"
    }
   ],
   "source": [
    "#Argsort the 1st column:\n",
    "sorted_index_1stcol = arr3[:, 0].argsort()\n",
    "#Sort array by 1st column without disturbing the integrity of row:\n",
    "arr3[sorted_index_1stcol]"
   ]
  },
  {
   "cell_type": "code",
   "execution_count": 88,
   "id": "34ac5ca8-e38c-4a49-a2e8-ff83453b37c3",
   "metadata": {},
   "outputs": [
    {
     "data": {
      "text/plain": [
       "array([[5, 2, 3, 3],\n",
       "       [5, 1, 2, 4],\n",
       "       [4, 5, 3, 5],\n",
       "       [4, 5, 3, 1],\n",
       "       [4, 4, 1, 1],\n",
       "       [3, 4, 2, 5],\n",
       "       [2, 1, 1, 5],\n",
       "       [2, 1, 1, 1]])"
      ]
     },
     "execution_count": 88,
     "metadata": {},
     "output_type": "execute_result"
    }
   ],
   "source": [
    "#Sort in decreasing order:\n",
    "arr3[sorted_index_1stcol[::-1]]"
   ]
  },
  {
   "cell_type": "code",
   "execution_count": 90,
   "id": "786c4514-711b-4aa4-90cf-5a446ac81b33",
   "metadata": {},
   "outputs": [
    {
     "data": {
      "text/plain": [
       "array([[2, 1, 1, 1],\n",
       "       [2, 1, 1, 5],\n",
       "       [3, 4, 2, 5],\n",
       "       [4, 4, 1, 1],\n",
       "       [4, 5, 3, 1],\n",
       "       [4, 5, 3, 5],\n",
       "       [5, 1, 2, 4],\n",
       "       [5, 2, 3, 3]])"
      ]
     },
     "execution_count": 90,
     "metadata": {},
     "output_type": "execute_result"
    }
   ],
   "source": [
    "#Sort a numpy based on 2 or more columns:\n",
    "#sort by col 0, then by col 1:\n",
    "lexsorted_index = np.lexsort((arr3[:, 1], arr3[:, 0]))\n",
    "arr3[lexsorted_index]"
   ]
  },
  {
   "cell_type": "code",
   "execution_count": null,
   "id": "087c5cef-a0af-4380-9d1d-0f20a18d3556",
   "metadata": {},
   "outputs": [],
   "source": []
  }
 ],
 "metadata": {
  "kernelspec": {
   "display_name": "Python 3 (ipykernel)",
   "language": "python",
   "name": "python3"
  },
  "language_info": {
   "codemirror_mode": {
    "name": "ipython",
    "version": 3
   },
   "file_extension": ".py",
   "mimetype": "text/x-python",
   "name": "python",
   "nbconvert_exporter": "python",
   "pygments_lexer": "ipython3",
   "version": "3.12.4"
  }
 },
 "nbformat": 4,
 "nbformat_minor": 5
}
