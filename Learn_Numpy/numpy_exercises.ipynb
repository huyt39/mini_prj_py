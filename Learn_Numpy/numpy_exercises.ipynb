{
  "cells": [
    {
      "cell_type": "markdown",
      "metadata": {
        "id": "uEvicJIuydAF"
      },
      "source": [
        "# NumPy Practice\n",
        "\n",
        "This notebook offers a set of exercises for different tasks with NumPy.\n",
        "\n",
        "It should be noted there may be more than one different way to answer a question or complete an exercise.\n",
        "\n",
        "Exercises are based off (and directly taken from) the quick introduction to NumPy notebook.\n",
        "\n",
        "Different tasks will be detailed by comments or text.\n",
        "\n",
        "For further reference and resources, it's advised to check out the [NumPy documentation](https://numpy.org/devdocs/user/index.html).\n",
        "\n",
        "And if you get stuck, try searching for a question in the following format: \"how to do XYZ with numpy\", where XYZ is the function you want to leverage from NumPy."
      ]
    },
    {
      "cell_type": "code",
      "execution_count": 2,
      "metadata": {
        "id": "vy4bKzZKydAI"
      },
      "outputs": [],
      "source": [
        "# Import NumPy as its abbreviation 'np'\n",
        "import numpy as np"
      ]
    },
    {
      "cell_type": "code",
      "execution_count": 6,
      "metadata": {
        "colab": {
          "base_uri": "https://localhost:8080/"
        },
        "id": "ek2eGb4QydAI",
        "outputId": "6aaa95eb-5ef7-479f-d4c0-13ce6b86220e"
      },
      "outputs": [
        {
          "output_type": "execute_result",
          "data": {
            "text/plain": [
              "array([[[1, 2, 3],\n",
              "        [4, 5, 6]],\n",
              "\n",
              "       [[7, 8, 9],\n",
              "        [1, 2, 3]]])"
            ]
          },
          "metadata": {},
          "execution_count": 6
        }
      ],
      "source": [
        "# Create a 1-dimensional NumPy array using np.array()\n",
        "\n",
        "a = np.array([1, 2, 3])\n",
        "a\n",
        "# Create a 2-dimensional NumPy array using np.array()\n",
        "b = np.array([[1, 2], [3, 4]])\n",
        "b\n",
        "\n",
        "# Create a 3-dimensional Numpy array using np.array()\n",
        "c = np.array([\n",
        "    [[1, 2, 3], [4, 5, 6]],\n",
        "    [[7, 8, 9], [1, 2, 3]]\n",
        "])\n",
        "c"
      ]
    },
    {
      "cell_type": "markdown",
      "metadata": {
        "id": "Z5XSLsDhydAI"
      },
      "source": [
        "Now we've you've created 3 different arrays, let's find details about them.\n",
        "\n",
        "Find the shape, number of dimensions, data type, size and type of each array."
      ]
    },
    {
      "cell_type": "code",
      "execution_count": 10,
      "metadata": {
        "colab": {
          "base_uri": "https://localhost:8080/"
        },
        "id": "N8ngouTjydAJ",
        "outputId": "a95bb2cc-b582-4dc0-efe6-4d5bba7ac17c"
      },
      "outputs": [
        {
          "output_type": "stream",
          "name": "stdout",
          "text": [
            "(3,)\n",
            "3\n",
            "int64\n",
            "1\n"
          ]
        }
      ],
      "source": [
        "# Attributes of 1-dimensional array (shape,\n",
        "# number of dimensions, data type, size and type)\n",
        "a = np.array([1, 2, 3])\n",
        "print(a.shape)\n",
        "print(a.size)\n",
        "print(a.dtype)\n",
        "print(a.ndim)"
      ]
    },
    {
      "cell_type": "code",
      "execution_count": 11,
      "metadata": {
        "colab": {
          "base_uri": "https://localhost:8080/"
        },
        "id": "DYtmABarydAJ",
        "outputId": "a3a7bb7a-6594-4640-fdfd-17e6ff46bc3d"
      },
      "outputs": [
        {
          "output_type": "stream",
          "name": "stdout",
          "text": [
            "(2, 3)\n",
            "6\n",
            "int64\n",
            "2\n"
          ]
        }
      ],
      "source": [
        "# Attributes of 2-dimensional array\n",
        "b = np.array([[1, 2, 3], [4, 5, 6]])\n",
        "print(b.shape)\n",
        "print(b.size)\n",
        "print(b.dtype)\n",
        "print(b.ndim)"
      ]
    },
    {
      "cell_type": "code",
      "execution_count": 13,
      "metadata": {
        "colab": {
          "base_uri": "https://localhost:8080/"
        },
        "id": "3PX1mu3aydAJ",
        "outputId": "7d52b72d-0ae1-4f13-b5a0-e8c5985c3f69"
      },
      "outputs": [
        {
          "output_type": "stream",
          "name": "stdout",
          "text": [
            "(3, 2, 3)\n",
            "18\n",
            "int64\n",
            "3\n"
          ]
        }
      ],
      "source": [
        "# Attributes of 3-dimensional array\n",
        "c = np.array([\n",
        "    [[1, 2, 3], [4, 5, 6]],\n",
        "    [[7, 8, 9], [1, 2, 3]],\n",
        "    [[4, 5, 5], [1, 2, 5]]\n",
        "])\n",
        "print(c.shape)\n",
        "print(c.size)\n",
        "print(c.dtype)\n",
        "print(c.ndim)"
      ]
    },
    {
      "cell_type": "code",
      "execution_count": null,
      "metadata": {
        "id": "xlCDNV6JydAJ"
      },
      "outputs": [],
      "source": [
        "# Import pandas and create a DataFrame out of one\n",
        "# of the arrays you've created\n",
        "import pandas as pd\n",
        "\n"
      ]
    },
    {
      "cell_type": "code",
      "execution_count": 15,
      "metadata": {
        "colab": {
          "base_uri": "https://localhost:8080/"
        },
        "id": "P2i3DUb7ydAJ",
        "outputId": "96df0e5a-24bc-4464-9fd1-799764475d54"
      },
      "outputs": [
        {
          "output_type": "stream",
          "name": "stdout",
          "text": [
            "[[1. 1.]\n",
            " [1. 1.]\n",
            " [1. 1.]\n",
            " [1. 1.]\n",
            " [1. 1.]\n",
            " [1. 1.]\n",
            " [1. 1.]\n",
            " [1. 1.]\n",
            " [1. 1.]\n",
            " [1. 1.]]\n"
          ]
        }
      ],
      "source": [
        "# Create an array of shape (10, 2) with only ones\n",
        "a = np.ones(shape=(10, 2))\n",
        "print(a)"
      ]
    },
    {
      "cell_type": "code",
      "execution_count": 16,
      "metadata": {
        "colab": {
          "base_uri": "https://localhost:8080/"
        },
        "id": "D6OOA3ItydAJ",
        "outputId": "ccfadd2c-105a-4075-f5d9-309cd5f820ad"
      },
      "outputs": [
        {
          "output_type": "stream",
          "name": "stdout",
          "text": [
            "[[[0. 0. 0.]\n",
            "  [0. 0. 0.]]\n",
            "\n",
            " [[0. 0. 0.]\n",
            "  [0. 0. 0.]]\n",
            "\n",
            " [[0. 0. 0.]\n",
            "  [0. 0. 0.]]\n",
            "\n",
            " [[0. 0. 0.]\n",
            "  [0. 0. 0.]]\n",
            "\n",
            " [[0. 0. 0.]\n",
            "  [0. 0. 0.]]\n",
            "\n",
            " [[0. 0. 0.]\n",
            "  [0. 0. 0.]]\n",
            "\n",
            " [[0. 0. 0.]\n",
            "  [0. 0. 0.]]]\n"
          ]
        }
      ],
      "source": [
        "# Create an array of shape (7, 2, 3) of only zeros\n",
        "b = np.zeros(shape=(7, 2, 3))\n",
        "print(b)"
      ]
    },
    {
      "cell_type": "code",
      "execution_count": 17,
      "metadata": {
        "colab": {
          "base_uri": "https://localhost:8080/"
        },
        "id": "4Wf-mvyYydAJ",
        "outputId": "893a65de-7c7c-4391-a8ca-31f22d9a2875"
      },
      "outputs": [
        {
          "output_type": "stream",
          "name": "stdout",
          "text": [
            "[ 0  3  6  9 12 15 18 21 24 27 30 33 36 39 42 45 48 51 54 57 60 63 66 69\n",
            " 72 75 78 81 84 87 90 93 96 99]\n"
          ]
        }
      ],
      "source": [
        "# Create an array within a range of 0 and 100 with step 3\n",
        "print(np.arange(0, 100, 3 ))"
      ]
    },
    {
      "cell_type": "code",
      "execution_count": 19,
      "metadata": {
        "colab": {
          "base_uri": "https://localhost:8080/"
        },
        "id": "Wa-ZqHiOydAK",
        "outputId": "e7822b94-d827-46ad-8de1-a670a529f2f2"
      },
      "outputs": [
        {
          "output_type": "execute_result",
          "data": {
            "text/plain": [
              "array([[7, 7],\n",
              "       [7, 4],\n",
              "       [4, 5],\n",
              "       [2, 8],\n",
              "       [4, 5],\n",
              "       [1, 2],\n",
              "       [4, 3]])"
            ]
          },
          "metadata": {},
          "execution_count": 19
        }
      ],
      "source": [
        "# Create a random array with numbers between 0 and 10 of size (7, 2)\n",
        "a = np.random.randint(0, 11, size = (7, 2))\n",
        "a"
      ]
    },
    {
      "cell_type": "code",
      "execution_count": 21,
      "metadata": {
        "colab": {
          "base_uri": "https://localhost:8080/"
        },
        "id": "KoZQV6VkydAK",
        "outputId": "5ae9220b-efcd-4848-9c66-4f4c32f57001"
      },
      "outputs": [
        {
          "output_type": "execute_result",
          "data": {
            "text/plain": [
              "array([[0.79103292, 0.30558824, 0.77071606, 0.19094611, 0.19491611],\n",
              "       [0.68414248, 0.00557588, 0.81694029, 0.73469009, 0.38498301],\n",
              "       [0.75660503, 0.62753987, 0.44938347, 0.1791464 , 0.52958528]])"
            ]
          },
          "metadata": {},
          "execution_count": 21
        }
      ],
      "source": [
        "# Create a random array of floats between 0 & 1 of shape (3, 5)\n",
        "b = np.random.rand(3, 5)\n",
        "b"
      ]
    },
    {
      "cell_type": "code",
      "execution_count": 22,
      "metadata": {
        "colab": {
          "base_uri": "https://localhost:8080/"
        },
        "id": "7XTTPAf6ydAK",
        "outputId": "af66505f-bafb-465c-fb71-87f25d5fb384"
      },
      "outputs": [
        {
          "output_type": "execute_result",
          "data": {
            "text/plain": [
              "array([[9, 5, 8, 8, 6, 6],\n",
              "       [6, 8, 8, 7, 7, 2],\n",
              "       [6, 5, 4, 6, 3, 4],\n",
              "       [2, 2, 3, 3, 0, 5]])"
            ]
          },
          "metadata": {},
          "execution_count": 22
        }
      ],
      "source": [
        "# Set the random seed to 42\n",
        "import random\n",
        "random.seed(42)\n",
        "\n",
        "# Create a random array of numbers between 0 & 10 of size (4, 6)\n",
        "c = np.random.randint(0, 10, size = (4, 6))\n",
        "c"
      ]
    },
    {
      "cell_type": "markdown",
      "metadata": {
        "id": "lvfgM7uBydAK"
      },
      "source": [
        "Run the cell above again, what happens?\n",
        "\n",
        "Are the numbers in the array different or the same? Why do think this is?"
      ]
    },
    {
      "cell_type": "code",
      "execution_count": 25,
      "metadata": {
        "colab": {
          "base_uri": "https://localhost:8080/"
        },
        "id": "qy-HQFSKydAK",
        "outputId": "334830bc-61eb-4b5e-e1db-030c9ae342bf"
      },
      "outputs": [
        {
          "output_type": "execute_result",
          "data": {
            "text/plain": [
              "array([1, 2, 3, 4, 5, 6, 7, 8, 9])"
            ]
          },
          "metadata": {},
          "execution_count": 25
        }
      ],
      "source": [
        "# Create an array of random numbers between 1 & 10 of size (3, 7)\n",
        "# and save it to a variable\n",
        "d = np.random.randint(1, 10, size = (3, 7))\n",
        "d\n",
        "# Find the unique numbers in the array you just created\n",
        "uniqs, counts = np.unique(d, return_counts = True)\n",
        "uniqs"
      ]
    },
    {
      "cell_type": "code",
      "execution_count": 26,
      "metadata": {
        "colab": {
          "base_uri": "https://localhost:8080/"
        },
        "id": "SHRG47xPydAK",
        "outputId": "8327a97e-764b-4e12-d34d-9baf93a7d038"
      },
      "outputs": [
        {
          "output_type": "execute_result",
          "data": {
            "text/plain": [
              "array([8, 4, 7, 1, 6, 2, 9])"
            ]
          },
          "metadata": {},
          "execution_count": 26
        }
      ],
      "source": [
        "# Find the 0'th index of the latest array you created\n",
        "d[0]"
      ]
    },
    {
      "cell_type": "code",
      "execution_count": 27,
      "metadata": {
        "colab": {
          "base_uri": "https://localhost:8080/"
        },
        "id": "2PEdEuOHydAK",
        "outputId": "5081ad0b-b834-4e85-ac28-d4b96a15aef7"
      },
      "outputs": [
        {
          "output_type": "stream",
          "name": "stdout",
          "text": [
            "[[8 4 7 1 6 2 9]\n",
            " [4 5 9 4 6 3 4]]\n"
          ]
        }
      ],
      "source": [
        "# Get the first 2 rows of latest array you created\n",
        "first2rows = d[:2]\n",
        "print(first2rows)"
      ]
    },
    {
      "cell_type": "code",
      "execution_count": 33,
      "metadata": {
        "colab": {
          "base_uri": "https://localhost:8080/"
        },
        "id": "AMELwiIfydAK",
        "outputId": "622bd3d3-d81d-4039-b2bd-570c3f6cb913"
      },
      "outputs": [
        {
          "output_type": "execute_result",
          "data": {
            "text/plain": [
              "array([[8],\n",
              "       [4]])"
            ]
          },
          "metadata": {},
          "execution_count": 33
        }
      ],
      "source": [
        "# Get the first 2 values of the first 2 rows of the latest array\n",
        "f = d[:2, :1]\n",
        "f\n"
      ]
    },
    {
      "cell_type": "code",
      "execution_count": 37,
      "metadata": {
        "id": "4irQEWePydAK"
      },
      "outputs": [],
      "source": [
        "# Create a random array of numbers between 0 & 10 and an array of ones\n",
        "# both of size (3, 5), save them both to variables\n",
        "a = np.random.randint(0, 10, size = (3, 5))\n",
        "b = np.ones(shape = (3, 5))\n"
      ]
    },
    {
      "cell_type": "code",
      "execution_count": 40,
      "metadata": {
        "colab": {
          "base_uri": "https://localhost:8080/"
        },
        "id": "t9rYLn7RydAK",
        "outputId": "ca93509e-2e16-4ffc-ce75-3a2d3ea1d446"
      },
      "outputs": [
        {
          "output_type": "stream",
          "name": "stdout",
          "text": [
            "[[ 7. 10.  4.  6.  9.]\n",
            " [ 4.  4.  1.  2.  3.]\n",
            " [ 8.  3.  8. 10.  3.]]\n"
          ]
        }
      ],
      "source": [
        "# Add the two arrays together\n",
        "c = a + b\n",
        "print(c)"
      ]
    },
    {
      "cell_type": "code",
      "execution_count": 38,
      "metadata": {
        "colab": {
          "base_uri": "https://localhost:8080/"
        },
        "id": "Ck-rvRI3ydAK",
        "outputId": "b213a949-44ec-494a-83ba-2174610f5dd5"
      },
      "outputs": [
        {
          "output_type": "execute_result",
          "data": {
            "text/plain": [
              "array([[1., 1., 1.],\n",
              "       [1., 1., 1.],\n",
              "       [1., 1., 1.],\n",
              "       [1., 1., 1.],\n",
              "       [1., 1., 1.]])"
            ]
          },
          "metadata": {},
          "execution_count": 38
        }
      ],
      "source": [
        "# Create another array of ones of shape (5, 3)\n",
        "arr = np.ones(shape = (5, 3))\n",
        "arr"
      ]
    },
    {
      "cell_type": "code",
      "execution_count": 44,
      "metadata": {
        "colab": {
          "base_uri": "https://localhost:8080/"
        },
        "id": "RzkLKy4cydAK",
        "outputId": "52b7a760-0227-4dd7-9433-692eedadcbfe"
      },
      "outputs": [
        {
          "output_type": "stream",
          "name": "stdout",
          "text": [
            "[[ 8. 11.  5.  7. 10.]\n",
            " [ 5.  5.  2.  3.  4.]\n",
            " [ 9.  4.  9. 11.  4.]]\n"
          ]
        }
      ],
      "source": [
        "# Try add the array of ones and the other most recent array together\n",
        "arr2 = arr.reshape(3, 5)\n",
        "print(arr2 + c)\n"
      ]
    },
    {
      "cell_type": "markdown",
      "metadata": {
        "id": "RyfZ-k7PydAK"
      },
      "source": [
        "When you try the last cell, it produces an error. Why do think this is?\n",
        "\n",
        "How would you fix it?"
      ]
    },
    {
      "cell_type": "code",
      "execution_count": 45,
      "metadata": {
        "id": "PQJgY-LYydAK"
      },
      "outputs": [],
      "source": [
        "# Create another array of ones of shape (3, 5)\n",
        "arr3 = np.ones(shape = (3, 5))"
      ]
    },
    {
      "cell_type": "code",
      "execution_count": 48,
      "metadata": {
        "colab": {
          "base_uri": "https://localhost:8080/"
        },
        "id": "ueqgWVokydAK",
        "outputId": "602af03f-3020-474e-f45f-a39afa18f958"
      },
      "outputs": [
        {
          "output_type": "stream",
          "name": "stdout",
          "text": [
            "[[6. 9. 3. 5. 8.]\n",
            " [3. 3. 0. 1. 2.]\n",
            " [7. 2. 7. 9. 2.]]\n"
          ]
        }
      ],
      "source": [
        "# Subtract the new array of ones from the other most recent array\n",
        "arr4 = c - arr3\n",
        "print (arr4)"
      ]
    },
    {
      "cell_type": "code",
      "execution_count": 49,
      "metadata": {
        "colab": {
          "base_uri": "https://localhost:8080/"
        },
        "id": "Mmi3_TSHydAK",
        "outputId": "c9601688-e3a4-4cd3-a759-0cf7326d6127"
      },
      "outputs": [
        {
          "output_type": "execute_result",
          "data": {
            "text/plain": [
              "array([[6., 9., 3., 5., 8.],\n",
              "       [3., 3., 0., 1., 2.],\n",
              "       [7., 2., 7., 9., 2.]])"
            ]
          },
          "metadata": {},
          "execution_count": 49
        }
      ],
      "source": [
        "# Multiply the ones array with the latest array\n",
        "arr3 * arr4"
      ]
    },
    {
      "cell_type": "code",
      "execution_count": 50,
      "metadata": {
        "colab": {
          "base_uri": "https://localhost:8080/"
        },
        "id": "5mBnbQtbydAK",
        "outputId": "f3b5c065-0346-4a56-902f-6a7939e009a7"
      },
      "outputs": [
        {
          "output_type": "execute_result",
          "data": {
            "text/plain": [
              "array([[36., 81.,  9., 25., 64.],\n",
              "       [ 9.,  9.,  0.,  1.,  4.],\n",
              "       [49.,  4., 49., 81.,  4.]])"
            ]
          },
          "metadata": {},
          "execution_count": 50
        }
      ],
      "source": [
        "# Take the latest array to the power of 2 using '**'\n",
        "arr4**2"
      ]
    },
    {
      "cell_type": "code",
      "execution_count": 51,
      "metadata": {
        "colab": {
          "base_uri": "https://localhost:8080/"
        },
        "id": "AXxLOIpCydAK",
        "outputId": "536f0c1a-b782-4bd8-f6ee-6008082dce4e"
      },
      "outputs": [
        {
          "output_type": "execute_result",
          "data": {
            "text/plain": [
              "array([[36., 81.,  9., 25., 64.],\n",
              "       [ 9.,  9.,  0.,  1.,  4.],\n",
              "       [49.,  4., 49., 81.,  4.]])"
            ]
          },
          "metadata": {},
          "execution_count": 51
        }
      ],
      "source": [
        "# Do the same thing with np.square()\n",
        "np.square(arr4)"
      ]
    },
    {
      "cell_type": "code",
      "execution_count": 52,
      "metadata": {
        "colab": {
          "base_uri": "https://localhost:8080/"
        },
        "id": "eZWCJEU2ydAK",
        "outputId": "5da3975a-68e8-4a81-8e20-0bdd7faaccbd"
      },
      "outputs": [
        {
          "output_type": "execute_result",
          "data": {
            "text/plain": [
              "4.466666666666667"
            ]
          },
          "metadata": {},
          "execution_count": 52
        }
      ],
      "source": [
        "# Find the mean of the latest array using np.mean()\n",
        "np.mean(arr4)"
      ]
    },
    {
      "cell_type": "code",
      "execution_count": 53,
      "metadata": {
        "colab": {
          "base_uri": "https://localhost:8080/"
        },
        "id": "kV0y3Y-0ydAK",
        "outputId": "f7920569-74cd-4f3d-abf8-50b7bbec2eea"
      },
      "outputs": [
        {
          "output_type": "execute_result",
          "data": {
            "text/plain": [
              "9.0"
            ]
          },
          "metadata": {},
          "execution_count": 53
        }
      ],
      "source": [
        "# Find the maximum of the latest array using np.max()\n",
        "np.max(arr4)"
      ]
    },
    {
      "cell_type": "code",
      "execution_count": 54,
      "metadata": {
        "colab": {
          "base_uri": "https://localhost:8080/"
        },
        "id": "GNqA9pBrydAL",
        "outputId": "bf87aa03-28e8-46ce-f1ac-39492a6636c6"
      },
      "outputs": [
        {
          "output_type": "execute_result",
          "data": {
            "text/plain": [
              "0.0"
            ]
          },
          "metadata": {},
          "execution_count": 54
        }
      ],
      "source": [
        "# Find the minimum of the latest array using np.min()\n",
        "np.min(arr4)"
      ]
    },
    {
      "cell_type": "code",
      "execution_count": 61,
      "metadata": {
        "colab": {
          "base_uri": "https://localhost:8080/"
        },
        "id": "lo1kYTdtydAL",
        "outputId": "535718c5-696c-43f4-b7c8-086aa10d6523"
      },
      "outputs": [
        {
          "output_type": "stream",
          "name": "stdout",
          "text": [
            "1.2909944487358056\n"
          ]
        }
      ],
      "source": [
        "# Find the standard deviation of the latest array\n",
        "import statistics\n",
        "print(statistics.stdev([1, 2, 3, 4]))"
      ]
    },
    {
      "cell_type": "code",
      "execution_count": 63,
      "metadata": {
        "colab": {
          "base_uri": "https://localhost:8080/"
        },
        "id": "f334H7YgydAL",
        "outputId": "2db460bd-0fe9-41ef-d9a5-393aa87bd513"
      },
      "outputs": [
        {
          "output_type": "stream",
          "name": "stdout",
          "text": [
            "1.6666666666666667\n"
          ]
        }
      ],
      "source": [
        "# Find the variance of the latest array\n",
        "print(statistics.variance([1, 2, 3, 4]))"
      ]
    },
    {
      "cell_type": "code",
      "execution_count": 58,
      "metadata": {
        "colab": {
          "base_uri": "https://localhost:8080/"
        },
        "id": "olWXc0DSydAL",
        "outputId": "2586909c-7d5a-489d-d336-6b0327de9e3e"
      },
      "outputs": [
        {
          "output_type": "execute_result",
          "data": {
            "text/plain": [
              "array([[[1.],\n",
              "        [1.],\n",
              "        [1.],\n",
              "        [1.],\n",
              "        [1.]],\n",
              "\n",
              "       [[1.],\n",
              "        [1.],\n",
              "        [1.],\n",
              "        [1.],\n",
              "        [1.]],\n",
              "\n",
              "       [[1.],\n",
              "        [1.],\n",
              "        [1.],\n",
              "        [1.],\n",
              "        [1.]]])"
            ]
          },
          "metadata": {},
          "execution_count": 58
        }
      ],
      "source": [
        "# Reshape the latest array to (3, 5, 1)\n",
        "arr.reshape(3, 5, 1)"
      ]
    },
    {
      "cell_type": "code",
      "execution_count": 65,
      "metadata": {
        "colab": {
          "base_uri": "https://localhost:8080/"
        },
        "id": "qeX9fbsNydAL",
        "outputId": "34ac32f3-89ee-4e63-a9e5-68b61c1aba10"
      },
      "outputs": [
        {
          "output_type": "execute_result",
          "data": {
            "text/plain": [
              "array([[1, 3],\n",
              "       [2, 4]])"
            ]
          },
          "metadata": {},
          "execution_count": 65
        }
      ],
      "source": [
        "# Transpose the latest array\n",
        "a = np.array([[1, 2], [3, 4]])\n",
        "np.transpose(a)"
      ]
    },
    {
      "cell_type": "markdown",
      "metadata": {
        "id": "F5FQgqHDydAL"
      },
      "source": [
        "What does the transpose do?"
      ]
    },
    {
      "cell_type": "code",
      "execution_count": 68,
      "metadata": {
        "colab": {
          "base_uri": "https://localhost:8080/"
        },
        "id": "Q0w1VfqRydAL",
        "outputId": "afc1023e-7fe3-4a5d-bd16-3fe7e68dd94e"
      },
      "outputs": [
        {
          "output_type": "stream",
          "name": "stdout",
          "text": [
            "[[3 5 7]\n",
            " [8 0 7]\n",
            " [3 1 8]]\n",
            "[[1 2]\n",
            " [0 4]\n",
            " [4 0]]\n",
            "[[3 8 3]\n",
            " [5 0 1]\n",
            " [7 7 8]]\n",
            "[[1 0 4]\n",
            " [2 4 0]]\n"
          ]
        }
      ],
      "source": [
        "# Create two arrays of random integers between 0 to 10\n",
        "# one of size (3, 3) the other of size (3, 2)\n",
        "a = np.random.randint(0, 10, size = (3, 3))\n",
        "b = np.random.randint(0, 10, size = (3, 2))\n",
        "print(a)\n",
        "print(b)\n",
        "print(np.transpose(a))\n",
        "print(np.transpose(b))"
      ]
    },
    {
      "cell_type": "code",
      "execution_count": null,
      "metadata": {
        "id": "5RaLhBeLydAL"
      },
      "outputs": [],
      "source": [
        "# Perform a dot product on the two newest arrays you created\n"
      ]
    },
    {
      "cell_type": "code",
      "execution_count": 69,
      "metadata": {
        "colab": {
          "base_uri": "https://localhost:8080/"
        },
        "id": "P0Dpe-FiydAO",
        "outputId": "ea9d7839-bacd-4b11-b0f0-8f1519447157"
      },
      "outputs": [
        {
          "output_type": "stream",
          "name": "stdout",
          "text": [
            "[[8 5 8]\n",
            " [7 4 3]\n",
            " [8 0 9]\n",
            " [4 7 2]]\n",
            "[[8 7 8]\n",
            " [6 9 7]\n",
            " [8 7 8]\n",
            " [6 3 8]]\n"
          ]
        }
      ],
      "source": [
        "# Create two arrays of random integers between 0 to 10\n",
        "# both of size (4, 3)\n",
        "c = np.random.randint(0, 10, size = (4, 3))\n",
        "d = np.random.randint(0, 10, size = (4, 3))\n",
        "print(c)\n",
        "print(d)"
      ]
    },
    {
      "cell_type": "code",
      "execution_count": 102,
      "metadata": {
        "colab": {
          "base_uri": "https://localhost:8080/"
        },
        "id": "HGE1lKN_ydAO",
        "outputId": "ce1a91b8-18f8-4d76-ceb8-d004bf2cc572"
      },
      "outputs": [
        {
          "output_type": "stream",
          "name": "stdout",
          "text": [
            "[[163 149 163 127]\n",
            " [108  99 108  78]\n",
            " [136 111 136 120]\n",
            " [ 97 101  97  61]]\n"
          ]
        }
      ],
      "source": [
        "# Perform a dot product on the two newest arrays you created\n",
        "c = np.array([[8, 5, 8],\n",
        " [7, 4, 3],\n",
        " [8, 0, 9],\n",
        " [4, 7, 2]])\n",
        "d = np.array([[8, 7, 8],\n",
        " [6, 9, 7],\n",
        " [8, 7, 8],\n",
        " [6, 3, 8]])\n",
        "mul = np.dot(c, d.T)\n",
        "print(mul)"
      ]
    },
    {
      "cell_type": "markdown",
      "metadata": {
        "id": "bJvNN50QydAO"
      },
      "source": [
        "It doesn't work. How would you fix it?"
      ]
    },
    {
      "cell_type": "code",
      "execution_count": null,
      "metadata": {
        "id": "SIYylaZYydAO"
      },
      "outputs": [],
      "source": [
        "# Take the latest two arrays, perform a transpose on one of them and then perform\n",
        "# a dot product on them both\n"
      ]
    },
    {
      "cell_type": "markdown",
      "metadata": {
        "id": "h4bqS-edydAO"
      },
      "source": [
        "Notice how performing a transpose allows the dot product to happen.\n",
        "\n",
        "Why is this?\n",
        "\n",
        "Checking out the documentation on [`np.dot()`](https://docs.scipy.org/doc/numpy/reference/generated/numpy.dot.html) may help, as well as reading [Math is Fun's guide on the dot product](https://www.mathsisfun.com/algebra/vectors-dot-product.html).\n",
        "\n",
        "Let's now compare arrays."
      ]
    },
    {
      "cell_type": "code",
      "execution_count": 72,
      "metadata": {
        "colab": {
          "base_uri": "https://localhost:8080/"
        },
        "id": "wGskt2scydAO",
        "outputId": "947dd2d7-c7d4-487e-a012-f5fbee18c1cd"
      },
      "outputs": [
        {
          "output_type": "stream",
          "name": "stdout",
          "text": [
            "[[1 7 4 1 9]]\n",
            "[[4 3 2 7 0]]\n",
            "[[False  True  True False  True]]\n"
          ]
        }
      ],
      "source": [
        "# Create two arrays of random integers between 0 & 10 of the same shape\n",
        "# and save them to variables\n",
        "a = np.random.randint(0, 10, size = (1, 5))\n",
        "b = np.random.randint(0, 10, size = (1, 5))\n",
        "print(a)\n",
        "print(b)\n"
      ]
    },
    {
      "cell_type": "code",
      "execution_count": 73,
      "metadata": {
        "colab": {
          "base_uri": "https://localhost:8080/"
        },
        "id": "JRs866R_ydAO",
        "outputId": "5dfa245a-7d90-4fbe-940b-93e23bb8efe3"
      },
      "outputs": [
        {
          "output_type": "stream",
          "name": "stdout",
          "text": [
            "[[False  True  True False  True]]\n"
          ]
        }
      ],
      "source": [
        "# Compare the two arrays with '>'\n",
        "print(a>b)"
      ]
    },
    {
      "cell_type": "markdown",
      "metadata": {
        "id": "2fDqibgNydAO"
      },
      "source": [
        "What happens when you compare the arrays with `>`?"
      ]
    },
    {
      "cell_type": "code",
      "execution_count": 74,
      "metadata": {
        "colab": {
          "base_uri": "https://localhost:8080/"
        },
        "id": "D8CkcnauydAO",
        "outputId": "d2fff9d3-1551-47f4-9b0a-a91584f41030"
      },
      "outputs": [
        {
          "output_type": "stream",
          "name": "stdout",
          "text": [
            "[[False  True  True False  True]]\n"
          ]
        }
      ],
      "source": [
        "# Compare the two arrays with '>='\n",
        "print(a>=b)"
      ]
    },
    {
      "cell_type": "code",
      "execution_count": 75,
      "metadata": {
        "colab": {
          "base_uri": "https://localhost:8080/"
        },
        "id": "j3JH-J-kydAO",
        "outputId": "5ba9dc34-dec9-4a8f-eecf-63e51020d4a8"
      },
      "outputs": [
        {
          "output_type": "stream",
          "name": "stdout",
          "text": [
            "[9]\n"
          ]
        }
      ],
      "source": [
        "# Find which elements of the first array are greater than 7\n",
        "c = a>7\n",
        "print(a[c])"
      ]
    },
    {
      "cell_type": "code",
      "execution_count": null,
      "metadata": {
        "id": "LqDSOlpaydAO"
      },
      "outputs": [],
      "source": [
        "# Which parts of each array are equal? (try using '==')\n"
      ]
    },
    {
      "cell_type": "code",
      "execution_count": 84,
      "metadata": {
        "colab": {
          "base_uri": "https://localhost:8080/"
        },
        "id": "AaBbG0xIydAO",
        "outputId": "4f7a9b56-11e4-4038-9b64-a097dc5f61cc"
      },
      "outputs": [
        {
          "output_type": "stream",
          "name": "stdout",
          "text": [
            "[2, 3, 4, 5, 8]\n"
          ]
        }
      ],
      "source": [
        "# Sort one of the arrays you just created in ascending order\n",
        "a = [3, 5, 4, 8, 2]\n",
        "a.sort()\n",
        "print(a)"
      ]
    },
    {
      "cell_type": "code",
      "execution_count": 87,
      "metadata": {
        "id": "eW3ZKjdSydAO"
      },
      "outputs": [],
      "source": [
        "# Sort the indexes of one of the arrays you just created\n"
      ]
    },
    {
      "cell_type": "code",
      "execution_count": 92,
      "metadata": {
        "colab": {
          "base_uri": "https://localhost:8080/"
        },
        "id": "VwoW16lTydAO",
        "outputId": "b390b5e7-3b38-4d1f-e110-e043feedf60a"
      },
      "outputs": [
        {
          "output_type": "stream",
          "name": "stdout",
          "text": [
            "2\n"
          ]
        }
      ],
      "source": [
        "# Find the index with the maximum value in one of the arrays you've created\n",
        "b = np.array([1, 3, 6, 5, 2])\n",
        "print(np.argmax(b))"
      ]
    },
    {
      "cell_type": "code",
      "execution_count": 93,
      "metadata": {
        "colab": {
          "base_uri": "https://localhost:8080/"
        },
        "id": "GVefPg5xydAP",
        "outputId": "00a2b937-1e0a-41fa-a04c-3fe2384aaaa8"
      },
      "outputs": [
        {
          "output_type": "stream",
          "name": "stdout",
          "text": [
            "0\n"
          ]
        }
      ],
      "source": [
        "# Find the index with the minimum value in one of the arrays you've created\n",
        "print(np.argmin(b))"
      ]
    },
    {
      "cell_type": "code",
      "execution_count": 95,
      "metadata": {
        "colab": {
          "base_uri": "https://localhost:8080/"
        },
        "id": "bIKNLqYoydAP",
        "outputId": "eac1b96c-083c-41ba-c50d-5474391cc460"
      },
      "outputs": [
        {
          "output_type": "stream",
          "name": "stdout",
          "text": [
            "[1 0]\n"
          ]
        }
      ],
      "source": [
        "# Find the indexes with the maximum values down the 1st axis (axis=1)\n",
        "# of one of the arrays you created\n",
        "arr = np.array([[1, 2], [5, 4]])\n",
        "print(np.argmax(arr, axis = 1))"
      ]
    },
    {
      "cell_type": "code",
      "execution_count": 96,
      "metadata": {
        "colab": {
          "base_uri": "https://localhost:8080/"
        },
        "id": "79uiS3yQydAP",
        "outputId": "60f82c5c-4f59-4a82-9ff3-195aab5ea973"
      },
      "outputs": [
        {
          "output_type": "stream",
          "name": "stdout",
          "text": [
            "[0 0]\n"
          ]
        }
      ],
      "source": [
        "# Find the indexes with the minimum values across the 0th axis (axis=0)\n",
        "# of one of the arrays you created\n",
        "print(np.argmin(arr, axis = 0))"
      ]
    },
    {
      "cell_type": "code",
      "execution_count": 97,
      "metadata": {
        "colab": {
          "base_uri": "https://localhost:8080/"
        },
        "id": "Nuq2qzPCydAP",
        "outputId": "ddeaacd4-24e8-440f-daba-0eecf5df240e"
      },
      "outputs": [
        {
          "output_type": "stream",
          "name": "stdout",
          "text": [
            "[[-3.77274465e-01  8.28599648e-01 -3.67649869e-01  8.84230126e-01]\n",
            " [ 1.43319379e-01 -1.88204336e+00  1.51262570e+00 -5.33905205e-04]\n",
            " [-1.76315129e+00  2.02186839e+00  1.32913787e+00  2.27702495e+00]]\n"
          ]
        }
      ],
      "source": [
        "# Create an array of normally distributed random numbers\n",
        "mean = 0       # Mean of the distribution\n",
        "std_dev = 1    # Standard deviation of the distribution\n",
        "size = (3, 4)  # Shape of the array\n",
        "\n",
        "# Create an array of normally distributed random numbers\n",
        "normal_array = np.random.normal(loc=mean, scale=std_dev, size=size)\n",
        "\n",
        "print(normal_array)"
      ]
    },
    {
      "cell_type": "code",
      "execution_count": 98,
      "metadata": {
        "colab": {
          "base_uri": "https://localhost:8080/"
        },
        "id": "2zmdCGRWydAP",
        "outputId": "6cd9641d-7cf3-4e36-ca3b-f537dd6c8604"
      },
      "outputs": [
        {
          "output_type": "stream",
          "name": "stdout",
          "text": [
            "[  1.  12.  23.  34.  45.  56.  67.  78.  89. 100.]\n"
          ]
        }
      ],
      "source": [
        "# Create an array with 10 evenly spaced numbers between 1 and 100\n",
        "arr = np.linspace(1, 100, 10)\n",
        "print(arr)"
      ]
    },
    {
      "cell_type": "markdown",
      "metadata": {
        "id": "c3_LoxNGydAP"
      },
      "source": [
        "## Extensions\n",
        "\n",
        "For more exercises, check out the [NumPy quickstart tutorial](https://numpy.org/doc/stable/user/quickstart.html). A good practice would be to read through it and for the parts you find interesting, add them into the end of this notebook.\n",
        "\n",
        "Pay particular attention to the section on broadcasting. And most importantly, get hands-on with the code as much as possible. If in dobut, run the code, see what it does.\n",
        "\n",
        "The next place you could go is the [Stack Overflow page for the top questions and answers for NumPy](https://stackoverflow.com/questions/tagged/numpy?sort=MostVotes&edited=true). Often, you'll find some of the most common and useful NumPy functions here. Don't forget to play around with the filters! You'll likely find something helpful here.\n",
        "\n",
        "Finally, as always, remember, the best way to learn something new is to try it. And try it relentlessly. If you get interested in some kind of NumPy function, asking yourself, \"I wonder if NumPy could do that?\", go and find out."
      ]
    }
  ],
  "metadata": {
    "kernelspec": {
      "display_name": "Python 3",
      "language": "python",
      "name": "python3"
    },
    "language_info": {
      "codemirror_mode": {
        "name": "ipython",
        "version": 3
      },
      "file_extension": ".py",
      "mimetype": "text/x-python",
      "name": "python",
      "nbconvert_exporter": "python",
      "pygments_lexer": "ipython3",
      "version": "3.8.3"
    },
    "colab": {
      "provenance": []
    }
  },
  "nbformat": 4,
  "nbformat_minor": 0
}