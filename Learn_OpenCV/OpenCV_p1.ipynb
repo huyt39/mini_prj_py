{
 "cells": [
  {
   "cell_type": "code",
   "execution_count": 4,
   "id": "84328987-e149-4df2-b370-8a4d051502ea",
   "metadata": {},
   "outputs": [
    {
     "name": "stdout",
     "output_type": "stream",
     "text": [
      "Height = 1740, Width = 886\n"
     ]
    }
   ],
   "source": [
    "import cv2\n",
    "#Reading the image:\n",
    "image = cv2.imread('7235870276309896453.jpg')\n",
    "\n",
    "h, w = image.shape[:2]\n",
    "print(\"Height = {}, Width = {}\".format(h,w))"
   ]
  },
  {
   "cell_type": "code",
   "execution_count": 9,
   "id": "67befec7-6b77-4a13-9027-4b844ed3a5bf",
   "metadata": {},
   "outputs": [
    {
     "name": "stdout",
     "output_type": "stream",
     "text": [
      "R=69, G=77, B=150\n",
      "B=150\n"
     ]
    }
   ],
   "source": [
    "#Extracting RGB values:\n",
    "#Randomly chosen a pixel by passing in 100, 100 for h and w\n",
    "(B, G, R) = image[100, 100]\n",
    "\n",
    "print (\"R={}, G={}, B={}\".format(R, G, B))\n",
    "\n",
    "B = image[100, 100, 0]\n",
    "print(\"B={}\".format(B))\n"
   ]
  },
  {
   "cell_type": "code",
   "execution_count": null,
   "id": "ca746d05-6d5f-4e0b-a602-857520e6f9fd",
   "metadata": {},
   "outputs": [],
   "source": [
    "roi = image[100:500, 200:700]\n",
    "cv2.imshow(\"ROI\", roi)\n",
    "cv2.waitKey(0)"
   ]
  },
  {
   "cell_type": "code",
   "execution_count": 22,
   "id": "a218e376-36e3-48fc-84cb-d6a777af52c0",
   "metadata": {},
   "outputs": [
    {
     "data": {
      "text/plain": [
       "32"
      ]
     },
     "execution_count": 22,
     "metadata": {},
     "output_type": "execute_result"
    }
   ],
   "source": [
    "#Resize:\n",
    "#2 parameters: image + dimensions:\n",
    "resize = cv2.resize(image, (500, 500))\n",
    "cv2.imshow(\"Resized Image\", resize)\n",
    "cv2.waitKey(0)"
   ]
  },
  {
   "cell_type": "code",
   "execution_count": 40,
   "id": "869d9090-cfb8-4b10-a587-89068d941517",
   "metadata": {},
   "outputs": [],
   "source": [
    "#Calculating the ratio:\n",
    "ratio = 800/w\n",
    "\n",
    "#Create a tuple containing h and w:\n",
    "dim = (800, int(h*ratio))\n",
    "\n",
    "#Resize:\n",
    "resize2 = cv2.resize(image, dim)\n",
    "cv2.imshow(\"Resized Image 2\", resize2)\n",
    "cv2.waitKey(0)\n",
    "cv2.destroyAllWindows()"
   ]
  },
  {
   "cell_type": "code",
   "execution_count": 39,
   "id": "ecca3f6a-d101-4598-beb5-912c8b338ac6",
   "metadata": {},
   "outputs": [
    {
     "data": {
      "text/plain": [
       "32"
      ]
     },
     "execution_count": 39,
     "metadata": {},
     "output_type": "execute_result"
    }
   ],
   "source": [
    "#Drawing a rectangle:\n",
    "#5 arguments: image, top-left corner co-ordinates, bottom-right corner co-ordinates, color, line width\n",
    "output = image.copy()\n",
    "\n",
    "#Create rec using rectangle() function:\n",
    "rec = cv2.rectangle(output, (1500, 900), (600, 400), (255, 0 , 0), 2)\n",
    "cv2.imshow(\"Rec\", output)\n",
    "cv2.waitKey(0)"
   ]
  },
  {
   "cell_type": "code",
   "execution_count": null,
   "id": "06214292-2f14-49fe-97fe-e88097f76437",
   "metadata": {},
   "outputs": [],
   "source": [
    "#Display text:\n",
    "#7 arguments: image, text, bottom-left (start), font, font-size, color, line width\n",
    "output2 = image.copy()\n",
    "\n",
    "text = cv2.putText(output2, 'OpenCV Intro', (500, 500), cv2.FONT_HERSHEY_SIMPLEX, 4, (255, 0, 0), 2 )\n",
    "cv2.imshow(\"Text\", output2)\n",
    "cv2.waitKey(0)"
   ]
  },
  {
   "cell_type": "code",
   "execution_count": null,
   "id": "b8b9023e-c5b9-4a85-9970-629411e117c1",
   "metadata": {},
   "outputs": [],
   "source": [
    " "
   ]
  }
 ],
 "metadata": {
  "kernelspec": {
   "display_name": "Python 3 (ipykernel)",
   "language": "python",
   "name": "python3"
  },
  "language_info": {
   "codemirror_mode": {
    "name": "ipython",
    "version": 3
   },
   "file_extension": ".py",
   "mimetype": "text/x-python",
   "name": "python",
   "nbconvert_exporter": "python",
   "pygments_lexer": "ipython3",
   "version": "3.12.4"
  }
 },
 "nbformat": 4,
 "nbformat_minor": 5
}
