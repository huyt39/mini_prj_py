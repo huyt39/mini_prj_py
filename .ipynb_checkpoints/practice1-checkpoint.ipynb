{
 "cells": [
  {
   "cell_type": "code",
   "execution_count": 19,
   "id": "064ee715-9272-424a-95c4-dc80ba919e65",
   "metadata": {},
   "outputs": [
    {
     "name": "stdout",
     "output_type": "stream",
     "text": [
      "[[ 1 17 74 40 96]\n",
      " [58 85 44 47 86]\n",
      " [57 72 83 94  8]\n",
      " [38 74 87 66 39]\n",
      " [89 93 30 70 29]\n",
      " [50 19 71 64 27]\n",
      " [80 49 38 23 68]\n",
      " [27 36 79 96  2]\n",
      " [63 11 12 90 62]\n",
      " [32 18 46 69 72]]\n",
      "   Mean  Median  Standard Deviation  Minimum  Maximum\n",
      "0  49.5    53.5           24.695141        1       89\n",
      "1  47.4    42.5           29.763064       11       93\n",
      "2  56.4    58.5           24.385241       12       87\n",
      "3  65.9    67.5           22.748407       23       96\n",
      "4  48.9    50.5           30.839747        2       96\n",
      "1.26.4\n",
      "3.12.4 | packaged by Anaconda, Inc. | (main, Jun 18 2024, 10:07:17) [Clang 14.0.6 ]\n"
     ]
    }
   ],
   "source": [
    "import numpy as np\n",
    "import sys\n",
    "import pandas as pd\n",
    "\n",
    "array = np.random.randint(0, 101, size=(10, 5))\n",
    "\n",
    "means = np.mean(array, axis=0)\n",
    "medians = np.median(array, axis=0)\n",
    "std_devs = np.std(array,axis=0)\n",
    "mins = np.min(array,axis=0)\n",
    "maxs = np.max(array, axis=0)\n",
    "\n",
    "stats_table = pd.DataFrame({\n",
    "    'Mean': means,\n",
    "    'Median': medians,\n",
    "    'Standard Deviation': std_devs,\n",
    "    'Minimum': mins,\n",
    "    'Maximum': maxs\n",
    "})\n",
    "\n",
    "print(array)\n",
    "print(stats_table)\n",
    "\n",
    "\n",
    "print (np.__version__)\n",
    "print (sys.version)\n",
    "\n"
   ]
  },
  {
   "cell_type": "code",
   "execution_count": null,
   "id": "53d1d126-67e3-4b83-81a5-cfcdd359eb99",
   "metadata": {},
   "outputs": [],
   "source": []
  }
 ],
 "metadata": {
  "kernelspec": {
   "display_name": "Python 3 (ipykernel)",
   "language": "python",
   "name": "python3"
  },
  "language_info": {
   "codemirror_mode": {
    "name": "ipython",
    "version": 3
   },
   "file_extension": ".py",
   "mimetype": "text/x-python",
   "name": "python",
   "nbconvert_exporter": "python",
   "pygments_lexer": "ipython3",
   "version": "3.12.4"
  }
 },
 "nbformat": 4,
 "nbformat_minor": 5
}
