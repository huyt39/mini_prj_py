{
 "cells": [
  {
   "cell_type": "code",
   "execution_count": 25,
   "id": "064ee715-9272-424a-95c4-dc80ba919e65",
   "metadata": {},
   "outputs": [
    {
     "name": "stdout",
     "output_type": "stream",
     "text": [
      "[[ 11  31  15  39  59]\n",
      " [ 91  31  88  68  28]\n",
      " [ 75  51  25  30 100]\n",
      " [ 30  94  18  20  55]\n",
      " [ 14  39  20  37  81]\n",
      " [ 50  15  66  95  75]\n",
      " [ 46  72  42  34  51]\n",
      " [ 77  45  92  74   3]\n",
      " [ 43   6  18  50  32]\n",
      " [ 57  54  76  68  36]]\n",
      "   Mean  Median  Standard Deviation  Minimum  Maximum\n",
      "0  31.0    31.0           17.343587       11       59\n",
      "1  61.2    68.0           27.080620       28       91\n",
      "2  56.2    51.0           28.138230       25      100\n",
      "3  43.4    30.0           28.520870       18       94\n",
      "4  38.2    37.0           23.455490       14       81\n",
      "5  60.2    66.0           26.873035       15       95\n",
      "6  49.0    46.0           12.774976       34       72\n",
      "7  58.2    74.0           31.517614        3       92\n",
      "8  29.8    32.0           16.079801        6       50\n",
      "9  58.2    57.0           13.600000       36       76\n",
      "1.26.4\n",
      "3.12.4 | packaged by Anaconda, Inc. | (main, Jun 18 2024, 10:07:17) [Clang 14.0.6 ]\n"
     ]
    }
   ],
   "source": [
    "import numpy as np\n",
    "import sys\n",
    "import pandas as pd\n",
    "\n",
    "array = np.random.randint(0, 101, size=(10, 5))\n",
    "\n",
    "means = np.mean(array, axis=1)\n",
    "medians = np.median(array, axis=1)\n",
    "std_devs = np.std(array,axis=1)\n",
    "mins = np.min(array,axis=1)\n",
    "maxs = np.max(array, axis=1)\n",
    "\n",
    "stats_table = pd.DataFrame({\n",
    "    'Mean': means,\n",
    "    'Median': medians,\n",
    "    'Standard Deviation': std_devs,\n",
    "    'Minimum': mins,\n",
    "    'Maximum': maxs\n",
    "})\n",
    "\n",
    "print(array)\n",
    "print(stats_table)\n",
    "\n",
    "\n",
    "print (np.__version__)\n",
    "print (sys.version)\n",
    "\n"
   ]
  },
  {
   "cell_type": "code",
   "execution_count": null,
   "id": "53d1d126-67e3-4b83-81a5-cfcdd359eb99",
   "metadata": {},
   "outputs": [],
   "source": []
  }
 ],
 "metadata": {
  "kernelspec": {
   "display_name": "Python 3 (ipykernel)",
   "language": "python",
   "name": "python3"
  },
  "language_info": {
   "codemirror_mode": {
    "name": "ipython",
    "version": 3
   },
   "file_extension": ".py",
   "mimetype": "text/x-python",
   "name": "python",
   "nbconvert_exporter": "python",
   "pygments_lexer": "ipython3",
   "version": "3.12.4"
  }
 },
 "nbformat": 4,
 "nbformat_minor": 5
}
