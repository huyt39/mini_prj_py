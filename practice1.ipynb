{
 "cells": [
  {
   "cell_type": "code",
   "execution_count": 3,
   "id": "064ee715-9272-424a-95c4-dc80ba919e65",
   "metadata": {},
   "outputs": [
    {
     "name": "stdout",
     "output_type": "stream",
     "text": [
      "[[72  6 49  0  2]\n",
      " [ 6 87 12 87 88]\n",
      " [38 50 16  4 28]\n",
      " [98  4 35 38 43]\n",
      " [33  6 82 88 56]\n",
      " [96 74 52 60 82]\n",
      " [95 52 18 45 21]\n",
      " [50 96 64 48 51]\n",
      " [51 39 82 32 23]\n",
      " [58 26 60 77 76]]\n",
      "   Mean  Median  Standard Deviation  Minimum  Maximum\n",
      "0  25.8     6.0           29.314843        0       72\n",
      "1  56.0    87.0           38.423951        6       88\n",
      "2  27.2    28.0           16.129476        4       50\n",
      "3  43.6    38.0           30.440762        4       98\n",
      "4  53.0    56.0           30.607189        6       88\n",
      "5  72.8    74.0           15.625620       52       96\n",
      "6  46.2    45.0           27.737339       18       95\n",
      "7  61.8    51.0           18.004444       48       96\n",
      "8  45.4    39.0           20.460694       23       82\n",
      "9  59.4    60.0           18.456435       26       77\n",
      "1.26.4\n",
      "3.12.4 | packaged by Anaconda, Inc. | (main, Jun 18 2024, 10:07:17) [Clang 14.0.6 ]\n"
     ]
    }
   ],
   "source": [
    "import numpy as np\n",
    "import sys\n",
    "import pandas as pd\n",
    "\n",
    "array = np.random.randint(0, 101, size=(10, 5))\n",
    "\n",
    "means = np.mean(array, axis=1)\n",
    "medians = np.median(array, axis=1)\n",
    "std_devs = np.std(array,axis=1)\n",
    "mins = np.min(array,axis=1)\n",
    "maxs = np.max(array, axis=1)\n",
    "\n",
    "stats_table = pd.DataFrame({\n",
    "    'Mean': means,\n",
    "    'Median': medians,\n",
    "    'Standard Deviation': std_devs,\n",
    "    'Minimum': mins,\n",
    "    'Maximum': maxs\n",
    "})\n",
    "\n",
    "print(array)\n",
    "print(stats_table)\n",
    "\n",
    "\n",
    "print (np.__version__)\n",
    "print (sys.version)\n",
    "\n"
   ]
  },
  {
   "cell_type": "code",
   "execution_count": null,
   "id": "53d1d126-67e3-4b83-81a5-cfcdd359eb99",
   "metadata": {},
   "outputs": [],
   "source": []
  }
 ],
 "metadata": {
  "kernelspec": {
   "display_name": "Python 3 (ipykernel)",
   "language": "python",
   "name": "python3"
  },
  "language_info": {
   "codemirror_mode": {
    "name": "ipython",
    "version": 3
   },
   "file_extension": ".py",
   "mimetype": "text/x-python",
   "name": "python",
   "nbconvert_exporter": "python",
   "pygments_lexer": "ipython3",
   "version": "3.12.4"
  }
 },
 "nbformat": 4,
 "nbformat_minor": 5
}
